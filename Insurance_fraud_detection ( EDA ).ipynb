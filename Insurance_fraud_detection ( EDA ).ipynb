{
 "cells": [
  {
   "cell_type": "markdown",
   "id": "fd161387",
   "metadata": {},
   "source": [
    "# EDA(Exploratory Data Analysis )"
   ]
  },
  {
   "cell_type": "code",
   "execution_count": 1,
   "id": "21885afb",
   "metadata": {},
   "outputs": [],
   "source": [
    "import pandas as pd\n",
    "import numpy as np\n",
    "import matplotlib.pyplot as plt\n",
    "import warnings\n",
    "warnings.filterwarnings('ignore')"
   ]
  },
  {
   "cell_type": "code",
   "execution_count": 2,
   "id": "04f4b47f",
   "metadata": {},
   "outputs": [],
   "source": [
    "df=pd.read_csv(\"Insurance Dataset.csv\")"
   ]
  },
  {
   "cell_type": "code",
   "execution_count": 3,
   "id": "2e3c4c71",
   "metadata": {},
   "outputs": [
    {
     "data": {
      "text/html": [
       "<div>\n",
       "<style scoped>\n",
       "    .dataframe tbody tr th:only-of-type {\n",
       "        vertical-align: middle;\n",
       "    }\n",
       "\n",
       "    .dataframe tbody tr th {\n",
       "        vertical-align: top;\n",
       "    }\n",
       "\n",
       "    .dataframe thead th {\n",
       "        text-align: right;\n",
       "    }\n",
       "</style>\n",
       "<table border=\"1\" class=\"dataframe\">\n",
       "  <thead>\n",
       "    <tr style=\"text-align: right;\">\n",
       "      <th></th>\n",
       "      <th>Area_Service</th>\n",
       "      <th>Hospital County</th>\n",
       "      <th>Hospital Id</th>\n",
       "      <th>Age</th>\n",
       "      <th>Gender</th>\n",
       "      <th>Cultural_group</th>\n",
       "      <th>ethnicity</th>\n",
       "      <th>Days_spend_hsptl</th>\n",
       "      <th>Admission_type</th>\n",
       "      <th>Home or self care,</th>\n",
       "      <th>...</th>\n",
       "      <th>Mortality risk</th>\n",
       "      <th>Surg_Description</th>\n",
       "      <th>Weight_baby</th>\n",
       "      <th>Abortion</th>\n",
       "      <th>Emergency dept_yes/No</th>\n",
       "      <th>Tot_charg</th>\n",
       "      <th>Tot_cost</th>\n",
       "      <th>ratio_of_total_costs_to_total_charges</th>\n",
       "      <th>Result</th>\n",
       "      <th>Payment_Typology</th>\n",
       "    </tr>\n",
       "  </thead>\n",
       "  <tbody>\n",
       "    <tr>\n",
       "      <th>0</th>\n",
       "      <td>Western NY</td>\n",
       "      <td>Allegany</td>\n",
       "      <td>37.0</td>\n",
       "      <td>30 to 49</td>\n",
       "      <td>F</td>\n",
       "      <td>White</td>\n",
       "      <td>Not Span/Hispanic</td>\n",
       "      <td>4</td>\n",
       "      <td>Elective</td>\n",
       "      <td>Home or Self Care</td>\n",
       "      <td>...</td>\n",
       "      <td>1.0</td>\n",
       "      <td>Medical</td>\n",
       "      <td>0</td>\n",
       "      <td>N</td>\n",
       "      <td>Y</td>\n",
       "      <td>5511.95</td>\n",
       "      <td>5582.49</td>\n",
       "      <td>1.012798</td>\n",
       "      <td>1</td>\n",
       "      <td>1</td>\n",
       "    </tr>\n",
       "    <tr>\n",
       "      <th>1</th>\n",
       "      <td>Western NY</td>\n",
       "      <td>Allegany</td>\n",
       "      <td>37.0</td>\n",
       "      <td>70 or Older</td>\n",
       "      <td>F</td>\n",
       "      <td>White</td>\n",
       "      <td>Not Span/Hispanic</td>\n",
       "      <td>4</td>\n",
       "      <td>Urgent</td>\n",
       "      <td>Short-term Hospital</td>\n",
       "      <td>...</td>\n",
       "      <td>2.0</td>\n",
       "      <td>Medical</td>\n",
       "      <td>0</td>\n",
       "      <td>N</td>\n",
       "      <td>Y</td>\n",
       "      <td>4783.20</td>\n",
       "      <td>5162.82</td>\n",
       "      <td>1.079365</td>\n",
       "      <td>1</td>\n",
       "      <td>1</td>\n",
       "    </tr>\n",
       "    <tr>\n",
       "      <th>2</th>\n",
       "      <td>Western NY</td>\n",
       "      <td>Allegany</td>\n",
       "      <td>37.0</td>\n",
       "      <td>30 to 49</td>\n",
       "      <td>F</td>\n",
       "      <td>White</td>\n",
       "      <td>Not Span/Hispanic</td>\n",
       "      <td>3</td>\n",
       "      <td>Urgent</td>\n",
       "      <td>Home or Self Care</td>\n",
       "      <td>...</td>\n",
       "      <td>1.0</td>\n",
       "      <td>Medical</td>\n",
       "      <td>0</td>\n",
       "      <td>N</td>\n",
       "      <td>Y</td>\n",
       "      <td>3829.15</td>\n",
       "      <td>4056.52</td>\n",
       "      <td>1.059379</td>\n",
       "      <td>1</td>\n",
       "      <td>1</td>\n",
       "    </tr>\n",
       "    <tr>\n",
       "      <th>3</th>\n",
       "      <td>Western NY</td>\n",
       "      <td>Allegany</td>\n",
       "      <td>37.0</td>\n",
       "      <td>0 to 17</td>\n",
       "      <td>F</td>\n",
       "      <td>White</td>\n",
       "      <td>Not Span/Hispanic</td>\n",
       "      <td>1</td>\n",
       "      <td>Urgent</td>\n",
       "      <td>Home or Self Care</td>\n",
       "      <td>...</td>\n",
       "      <td>1.0</td>\n",
       "      <td>Medical</td>\n",
       "      <td>0</td>\n",
       "      <td>N</td>\n",
       "      <td>Y</td>\n",
       "      <td>1108.20</td>\n",
       "      <td>1644.75</td>\n",
       "      <td>1.484167</td>\n",
       "      <td>0</td>\n",
       "      <td>1</td>\n",
       "    </tr>\n",
       "    <tr>\n",
       "      <th>4</th>\n",
       "      <td>Western NY</td>\n",
       "      <td>Allegany</td>\n",
       "      <td>37.0</td>\n",
       "      <td>70 or Older</td>\n",
       "      <td>F</td>\n",
       "      <td>White</td>\n",
       "      <td>Not Span/Hispanic</td>\n",
       "      <td>3</td>\n",
       "      <td>Elective</td>\n",
       "      <td>Home or Self Care</td>\n",
       "      <td>...</td>\n",
       "      <td>3.0</td>\n",
       "      <td>Medical</td>\n",
       "      <td>0</td>\n",
       "      <td>N</td>\n",
       "      <td>Y</td>\n",
       "      <td>3418.18</td>\n",
       "      <td>3370.87</td>\n",
       "      <td>0.986161</td>\n",
       "      <td>1</td>\n",
       "      <td>1</td>\n",
       "    </tr>\n",
       "    <tr>\n",
       "      <th>...</th>\n",
       "      <td>...</td>\n",
       "      <td>...</td>\n",
       "      <td>...</td>\n",
       "      <td>...</td>\n",
       "      <td>...</td>\n",
       "      <td>...</td>\n",
       "      <td>...</td>\n",
       "      <td>...</td>\n",
       "      <td>...</td>\n",
       "      <td>...</td>\n",
       "      <td>...</td>\n",
       "      <td>...</td>\n",
       "      <td>...</td>\n",
       "      <td>...</td>\n",
       "      <td>...</td>\n",
       "      <td>...</td>\n",
       "      <td>...</td>\n",
       "      <td>...</td>\n",
       "      <td>...</td>\n",
       "      <td>...</td>\n",
       "      <td>...</td>\n",
       "    </tr>\n",
       "    <tr>\n",
       "      <th>1048570</th>\n",
       "      <td>New York City</td>\n",
       "      <td>Bronx</td>\n",
       "      <td>1169.0</td>\n",
       "      <td>70 or Older</td>\n",
       "      <td>F</td>\n",
       "      <td>Other Race</td>\n",
       "      <td>Spanish/Hispanic</td>\n",
       "      <td>6</td>\n",
       "      <td>Emergency</td>\n",
       "      <td>Skilled Nursing Home</td>\n",
       "      <td>...</td>\n",
       "      <td>3.0</td>\n",
       "      <td>Medical</td>\n",
       "      <td>0</td>\n",
       "      <td>N</td>\n",
       "      <td>Y</td>\n",
       "      <td>69650.41</td>\n",
       "      <td>13896.82</td>\n",
       "      <td>0.199522</td>\n",
       "      <td>1</td>\n",
       "      <td>3</td>\n",
       "    </tr>\n",
       "    <tr>\n",
       "      <th>1048571</th>\n",
       "      <td>New York City</td>\n",
       "      <td>Bronx</td>\n",
       "      <td>1169.0</td>\n",
       "      <td>0 to 17</td>\n",
       "      <td>F</td>\n",
       "      <td>Other Race</td>\n",
       "      <td>Not Span/Hispanic</td>\n",
       "      <td>2</td>\n",
       "      <td>Emergency</td>\n",
       "      <td>Home or Self Care</td>\n",
       "      <td>...</td>\n",
       "      <td>1.0</td>\n",
       "      <td>Medical</td>\n",
       "      <td>0</td>\n",
       "      <td>N</td>\n",
       "      <td>N</td>\n",
       "      <td>13587.38</td>\n",
       "      <td>3918.35</td>\n",
       "      <td>0.288382</td>\n",
       "      <td>1</td>\n",
       "      <td>3</td>\n",
       "    </tr>\n",
       "    <tr>\n",
       "      <th>1048572</th>\n",
       "      <td>New York City</td>\n",
       "      <td>Bronx</td>\n",
       "      <td>1169.0</td>\n",
       "      <td>50 to 69</td>\n",
       "      <td>M</td>\n",
       "      <td>Other Race</td>\n",
       "      <td>Spanish/Hispanic</td>\n",
       "      <td>13</td>\n",
       "      <td>Emergency</td>\n",
       "      <td>Medicare Cert Long Term Care Hospital</td>\n",
       "      <td>...</td>\n",
       "      <td>4.0</td>\n",
       "      <td>Medical</td>\n",
       "      <td>0</td>\n",
       "      <td>N</td>\n",
       "      <td>Y</td>\n",
       "      <td>104629.78</td>\n",
       "      <td>24746.64</td>\n",
       "      <td>0.236516</td>\n",
       "      <td>0</td>\n",
       "      <td>3</td>\n",
       "    </tr>\n",
       "    <tr>\n",
       "      <th>1048573</th>\n",
       "      <td>New York City</td>\n",
       "      <td>Bronx</td>\n",
       "      <td>1169.0</td>\n",
       "      <td>30 to 49</td>\n",
       "      <td>F</td>\n",
       "      <td>Black/African American</td>\n",
       "      <td>Not Span/Hispanic</td>\n",
       "      <td>2</td>\n",
       "      <td>Emergency</td>\n",
       "      <td>Home or Self Care</td>\n",
       "      <td>...</td>\n",
       "      <td>1.0</td>\n",
       "      <td>Surgical</td>\n",
       "      <td>0</td>\n",
       "      <td>N</td>\n",
       "      <td>Y</td>\n",
       "      <td>27521.41</td>\n",
       "      <td>6766.04</td>\n",
       "      <td>0.245846</td>\n",
       "      <td>1</td>\n",
       "      <td>3</td>\n",
       "    </tr>\n",
       "    <tr>\n",
       "      <th>1048574</th>\n",
       "      <td>New York City</td>\n",
       "      <td>Bronx</td>\n",
       "      <td>1169.0</td>\n",
       "      <td>50 to 69</td>\n",
       "      <td>M</td>\n",
       "      <td>Other Race</td>\n",
       "      <td>Spanish/Hispanic</td>\n",
       "      <td>2</td>\n",
       "      <td>Emergency</td>\n",
       "      <td>Home or Self Care</td>\n",
       "      <td>...</td>\n",
       "      <td>1.0</td>\n",
       "      <td>Medical</td>\n",
       "      <td>0</td>\n",
       "      <td>N</td>\n",
       "      <td>Y</td>\n",
       "      <td>24832.23</td>\n",
       "      <td>4974.66</td>\n",
       "      <td>0.200331</td>\n",
       "      <td>1</td>\n",
       "      <td>2</td>\n",
       "    </tr>\n",
       "  </tbody>\n",
       "</table>\n",
       "<p>1048575 rows × 24 columns</p>\n",
       "</div>"
      ],
      "text/plain": [
       "          Area_Service Hospital County  Hospital Id          Age Gender  \\\n",
       "0           Western NY        Allegany         37.0     30 to 49      F   \n",
       "1           Western NY        Allegany         37.0  70 or Older      F   \n",
       "2           Western NY        Allegany         37.0     30 to 49      F   \n",
       "3           Western NY        Allegany         37.0      0 to 17      F   \n",
       "4           Western NY        Allegany         37.0  70 or Older      F   \n",
       "...                ...             ...          ...          ...    ...   \n",
       "1048570  New York City           Bronx       1169.0  70 or Older      F   \n",
       "1048571  New York City           Bronx       1169.0      0 to 17      F   \n",
       "1048572  New York City           Bronx       1169.0     50 to 69      M   \n",
       "1048573  New York City           Bronx       1169.0     30 to 49      F   \n",
       "1048574  New York City           Bronx       1169.0     50 to 69      M   \n",
       "\n",
       "                 Cultural_group          ethnicity Days_spend_hsptl  \\\n",
       "0                         White  Not Span/Hispanic                4   \n",
       "1                         White  Not Span/Hispanic                4   \n",
       "2                         White  Not Span/Hispanic                3   \n",
       "3                         White  Not Span/Hispanic                1   \n",
       "4                         White  Not Span/Hispanic                3   \n",
       "...                         ...                ...              ...   \n",
       "1048570              Other Race   Spanish/Hispanic                6   \n",
       "1048571              Other Race  Not Span/Hispanic                2   \n",
       "1048572              Other Race   Spanish/Hispanic               13   \n",
       "1048573  Black/African American  Not Span/Hispanic                2   \n",
       "1048574              Other Race   Spanish/Hispanic                2   \n",
       "\n",
       "        Admission_type                     Home or self care,  ...  \\\n",
       "0             Elective                      Home or Self Care  ...   \n",
       "1               Urgent                    Short-term Hospital  ...   \n",
       "2               Urgent                      Home or Self Care  ...   \n",
       "3               Urgent                      Home or Self Care  ...   \n",
       "4             Elective                      Home or Self Care  ...   \n",
       "...                ...                                    ...  ...   \n",
       "1048570      Emergency                   Skilled Nursing Home  ...   \n",
       "1048571      Emergency                      Home or Self Care  ...   \n",
       "1048572      Emergency  Medicare Cert Long Term Care Hospital  ...   \n",
       "1048573      Emergency                      Home or Self Care  ...   \n",
       "1048574      Emergency                      Home or Self Care  ...   \n",
       "\n",
       "         Mortality risk  Surg_Description Weight_baby  Abortion  \\\n",
       "0                   1.0           Medical           0         N   \n",
       "1                   2.0           Medical           0         N   \n",
       "2                   1.0           Medical           0         N   \n",
       "3                   1.0           Medical           0         N   \n",
       "4                   3.0           Medical           0         N   \n",
       "...                 ...               ...         ...       ...   \n",
       "1048570             3.0           Medical           0         N   \n",
       "1048571             1.0           Medical           0         N   \n",
       "1048572             4.0           Medical           0         N   \n",
       "1048573             1.0          Surgical           0         N   \n",
       "1048574             1.0           Medical           0         N   \n",
       "\n",
       "         Emergency dept_yes/No  Tot_charg  Tot_cost  \\\n",
       "0                            Y    5511.95   5582.49   \n",
       "1                            Y    4783.20   5162.82   \n",
       "2                            Y    3829.15   4056.52   \n",
       "3                            Y    1108.20   1644.75   \n",
       "4                            Y    3418.18   3370.87   \n",
       "...                        ...        ...       ...   \n",
       "1048570                      Y   69650.41  13896.82   \n",
       "1048571                      N   13587.38   3918.35   \n",
       "1048572                      Y  104629.78  24746.64   \n",
       "1048573                      Y   27521.41   6766.04   \n",
       "1048574                      Y   24832.23   4974.66   \n",
       "\n",
       "        ratio_of_total_costs_to_total_charges Result  Payment_Typology  \n",
       "0                                    1.012798      1                 1  \n",
       "1                                    1.079365      1                 1  \n",
       "2                                    1.059379      1                 1  \n",
       "3                                    1.484167      0                 1  \n",
       "4                                    0.986161      1                 1  \n",
       "...                                       ...    ...               ...  \n",
       "1048570                              0.199522      1                 3  \n",
       "1048571                              0.288382      1                 3  \n",
       "1048572                              0.236516      0                 3  \n",
       "1048573                              0.245846      1                 3  \n",
       "1048574                              0.200331      1                 2  \n",
       "\n",
       "[1048575 rows x 24 columns]"
      ]
     },
     "execution_count": 3,
     "metadata": {},
     "output_type": "execute_result"
    }
   ],
   "source": [
    "df"
   ]
  },
  {
   "cell_type": "code",
   "execution_count": 4,
   "id": "0d5a3a7f",
   "metadata": {},
   "outputs": [
    {
     "data": {
      "text/html": [
       "<div>\n",
       "<style scoped>\n",
       "    .dataframe tbody tr th:only-of-type {\n",
       "        vertical-align: middle;\n",
       "    }\n",
       "\n",
       "    .dataframe tbody tr th {\n",
       "        vertical-align: top;\n",
       "    }\n",
       "\n",
       "    .dataframe thead th {\n",
       "        text-align: right;\n",
       "    }\n",
       "</style>\n",
       "<table border=\"1\" class=\"dataframe\">\n",
       "  <thead>\n",
       "    <tr style=\"text-align: right;\">\n",
       "      <th></th>\n",
       "      <th>Area_Service</th>\n",
       "      <th>Hospital County</th>\n",
       "      <th>Hospital Id</th>\n",
       "      <th>Age</th>\n",
       "      <th>Gender</th>\n",
       "      <th>Cultural_group</th>\n",
       "      <th>ethnicity</th>\n",
       "      <th>Days_spend_hsptl</th>\n",
       "      <th>Admission_type</th>\n",
       "      <th>Home or self care,</th>\n",
       "      <th>...</th>\n",
       "      <th>Mortality risk</th>\n",
       "      <th>Surg_Description</th>\n",
       "      <th>Weight_baby</th>\n",
       "      <th>Abortion</th>\n",
       "      <th>Emergency dept_yes/No</th>\n",
       "      <th>Tot_charg</th>\n",
       "      <th>Tot_cost</th>\n",
       "      <th>ratio_of_total_costs_to_total_charges</th>\n",
       "      <th>Result</th>\n",
       "      <th>Payment_Typology</th>\n",
       "    </tr>\n",
       "  </thead>\n",
       "  <tbody>\n",
       "    <tr>\n",
       "      <th>0</th>\n",
       "      <td>Western NY</td>\n",
       "      <td>Allegany</td>\n",
       "      <td>37.0</td>\n",
       "      <td>30 to 49</td>\n",
       "      <td>F</td>\n",
       "      <td>White</td>\n",
       "      <td>Not Span/Hispanic</td>\n",
       "      <td>4</td>\n",
       "      <td>Elective</td>\n",
       "      <td>Home or Self Care</td>\n",
       "      <td>...</td>\n",
       "      <td>1.0</td>\n",
       "      <td>Medical</td>\n",
       "      <td>0</td>\n",
       "      <td>N</td>\n",
       "      <td>Y</td>\n",
       "      <td>5511.95</td>\n",
       "      <td>5582.49</td>\n",
       "      <td>1.012798</td>\n",
       "      <td>1</td>\n",
       "      <td>1</td>\n",
       "    </tr>\n",
       "    <tr>\n",
       "      <th>1</th>\n",
       "      <td>Western NY</td>\n",
       "      <td>Allegany</td>\n",
       "      <td>37.0</td>\n",
       "      <td>70 or Older</td>\n",
       "      <td>F</td>\n",
       "      <td>White</td>\n",
       "      <td>Not Span/Hispanic</td>\n",
       "      <td>4</td>\n",
       "      <td>Urgent</td>\n",
       "      <td>Short-term Hospital</td>\n",
       "      <td>...</td>\n",
       "      <td>2.0</td>\n",
       "      <td>Medical</td>\n",
       "      <td>0</td>\n",
       "      <td>N</td>\n",
       "      <td>Y</td>\n",
       "      <td>4783.20</td>\n",
       "      <td>5162.82</td>\n",
       "      <td>1.079365</td>\n",
       "      <td>1</td>\n",
       "      <td>1</td>\n",
       "    </tr>\n",
       "    <tr>\n",
       "      <th>2</th>\n",
       "      <td>Western NY</td>\n",
       "      <td>Allegany</td>\n",
       "      <td>37.0</td>\n",
       "      <td>30 to 49</td>\n",
       "      <td>F</td>\n",
       "      <td>White</td>\n",
       "      <td>Not Span/Hispanic</td>\n",
       "      <td>3</td>\n",
       "      <td>Urgent</td>\n",
       "      <td>Home or Self Care</td>\n",
       "      <td>...</td>\n",
       "      <td>1.0</td>\n",
       "      <td>Medical</td>\n",
       "      <td>0</td>\n",
       "      <td>N</td>\n",
       "      <td>Y</td>\n",
       "      <td>3829.15</td>\n",
       "      <td>4056.52</td>\n",
       "      <td>1.059379</td>\n",
       "      <td>1</td>\n",
       "      <td>1</td>\n",
       "    </tr>\n",
       "    <tr>\n",
       "      <th>3</th>\n",
       "      <td>Western NY</td>\n",
       "      <td>Allegany</td>\n",
       "      <td>37.0</td>\n",
       "      <td>0 to 17</td>\n",
       "      <td>F</td>\n",
       "      <td>White</td>\n",
       "      <td>Not Span/Hispanic</td>\n",
       "      <td>1</td>\n",
       "      <td>Urgent</td>\n",
       "      <td>Home or Self Care</td>\n",
       "      <td>...</td>\n",
       "      <td>1.0</td>\n",
       "      <td>Medical</td>\n",
       "      <td>0</td>\n",
       "      <td>N</td>\n",
       "      <td>Y</td>\n",
       "      <td>1108.20</td>\n",
       "      <td>1644.75</td>\n",
       "      <td>1.484167</td>\n",
       "      <td>0</td>\n",
       "      <td>1</td>\n",
       "    </tr>\n",
       "    <tr>\n",
       "      <th>4</th>\n",
       "      <td>Western NY</td>\n",
       "      <td>Allegany</td>\n",
       "      <td>37.0</td>\n",
       "      <td>70 or Older</td>\n",
       "      <td>F</td>\n",
       "      <td>White</td>\n",
       "      <td>Not Span/Hispanic</td>\n",
       "      <td>3</td>\n",
       "      <td>Elective</td>\n",
       "      <td>Home or Self Care</td>\n",
       "      <td>...</td>\n",
       "      <td>3.0</td>\n",
       "      <td>Medical</td>\n",
       "      <td>0</td>\n",
       "      <td>N</td>\n",
       "      <td>Y</td>\n",
       "      <td>3418.18</td>\n",
       "      <td>3370.87</td>\n",
       "      <td>0.986161</td>\n",
       "      <td>1</td>\n",
       "      <td>1</td>\n",
       "    </tr>\n",
       "  </tbody>\n",
       "</table>\n",
       "<p>5 rows × 24 columns</p>\n",
       "</div>"
      ],
      "text/plain": [
       "  Area_Service Hospital County  Hospital Id          Age Gender  \\\n",
       "0   Western NY        Allegany         37.0     30 to 49      F   \n",
       "1   Western NY        Allegany         37.0  70 or Older      F   \n",
       "2   Western NY        Allegany         37.0     30 to 49      F   \n",
       "3   Western NY        Allegany         37.0      0 to 17      F   \n",
       "4   Western NY        Allegany         37.0  70 or Older      F   \n",
       "\n",
       "  Cultural_group          ethnicity Days_spend_hsptl Admission_type  \\\n",
       "0          White  Not Span/Hispanic                4       Elective   \n",
       "1          White  Not Span/Hispanic                4         Urgent   \n",
       "2          White  Not Span/Hispanic                3         Urgent   \n",
       "3          White  Not Span/Hispanic                1         Urgent   \n",
       "4          White  Not Span/Hispanic                3       Elective   \n",
       "\n",
       "    Home or self care,  ...  Mortality risk  Surg_Description Weight_baby  \\\n",
       "0    Home or Self Care  ...             1.0           Medical           0   \n",
       "1  Short-term Hospital  ...             2.0           Medical           0   \n",
       "2    Home or Self Care  ...             1.0           Medical           0   \n",
       "3    Home or Self Care  ...             1.0           Medical           0   \n",
       "4    Home or Self Care  ...             3.0           Medical           0   \n",
       "\n",
       "   Abortion  Emergency dept_yes/No Tot_charg  Tot_cost  \\\n",
       "0         N                      Y   5511.95   5582.49   \n",
       "1         N                      Y   4783.20   5162.82   \n",
       "2         N                      Y   3829.15   4056.52   \n",
       "3         N                      Y   1108.20   1644.75   \n",
       "4         N                      Y   3418.18   3370.87   \n",
       "\n",
       "  ratio_of_total_costs_to_total_charges Result  Payment_Typology  \n",
       "0                              1.012798      1                 1  \n",
       "1                              1.079365      1                 1  \n",
       "2                              1.059379      1                 1  \n",
       "3                              1.484167      0                 1  \n",
       "4                              0.986161      1                 1  \n",
       "\n",
       "[5 rows x 24 columns]"
      ]
     },
     "execution_count": 4,
     "metadata": {},
     "output_type": "execute_result"
    }
   ],
   "source": [
    "df.head()"
   ]
  },
  {
   "cell_type": "code",
   "execution_count": 5,
   "id": "94174a9e",
   "metadata": {},
   "outputs": [
    {
     "data": {
      "text/html": [
       "<div>\n",
       "<style scoped>\n",
       "    .dataframe tbody tr th:only-of-type {\n",
       "        vertical-align: middle;\n",
       "    }\n",
       "\n",
       "    .dataframe tbody tr th {\n",
       "        vertical-align: top;\n",
       "    }\n",
       "\n",
       "    .dataframe thead th {\n",
       "        text-align: right;\n",
       "    }\n",
       "</style>\n",
       "<table border=\"1\" class=\"dataframe\">\n",
       "  <thead>\n",
       "    <tr style=\"text-align: right;\">\n",
       "      <th></th>\n",
       "      <th>Area_Service</th>\n",
       "      <th>Hospital County</th>\n",
       "      <th>Hospital Id</th>\n",
       "      <th>Age</th>\n",
       "      <th>Gender</th>\n",
       "      <th>Cultural_group</th>\n",
       "      <th>ethnicity</th>\n",
       "      <th>Days_spend_hsptl</th>\n",
       "      <th>Admission_type</th>\n",
       "      <th>Home or self care,</th>\n",
       "      <th>...</th>\n",
       "      <th>Mortality risk</th>\n",
       "      <th>Surg_Description</th>\n",
       "      <th>Weight_baby</th>\n",
       "      <th>Abortion</th>\n",
       "      <th>Emergency dept_yes/No</th>\n",
       "      <th>Tot_charg</th>\n",
       "      <th>Tot_cost</th>\n",
       "      <th>ratio_of_total_costs_to_total_charges</th>\n",
       "      <th>Result</th>\n",
       "      <th>Payment_Typology</th>\n",
       "    </tr>\n",
       "  </thead>\n",
       "  <tbody>\n",
       "    <tr>\n",
       "      <th>1048570</th>\n",
       "      <td>New York City</td>\n",
       "      <td>Bronx</td>\n",
       "      <td>1169.0</td>\n",
       "      <td>70 or Older</td>\n",
       "      <td>F</td>\n",
       "      <td>Other Race</td>\n",
       "      <td>Spanish/Hispanic</td>\n",
       "      <td>6</td>\n",
       "      <td>Emergency</td>\n",
       "      <td>Skilled Nursing Home</td>\n",
       "      <td>...</td>\n",
       "      <td>3.0</td>\n",
       "      <td>Medical</td>\n",
       "      <td>0</td>\n",
       "      <td>N</td>\n",
       "      <td>Y</td>\n",
       "      <td>69650.41</td>\n",
       "      <td>13896.82</td>\n",
       "      <td>0.199522</td>\n",
       "      <td>1</td>\n",
       "      <td>3</td>\n",
       "    </tr>\n",
       "    <tr>\n",
       "      <th>1048571</th>\n",
       "      <td>New York City</td>\n",
       "      <td>Bronx</td>\n",
       "      <td>1169.0</td>\n",
       "      <td>0 to 17</td>\n",
       "      <td>F</td>\n",
       "      <td>Other Race</td>\n",
       "      <td>Not Span/Hispanic</td>\n",
       "      <td>2</td>\n",
       "      <td>Emergency</td>\n",
       "      <td>Home or Self Care</td>\n",
       "      <td>...</td>\n",
       "      <td>1.0</td>\n",
       "      <td>Medical</td>\n",
       "      <td>0</td>\n",
       "      <td>N</td>\n",
       "      <td>N</td>\n",
       "      <td>13587.38</td>\n",
       "      <td>3918.35</td>\n",
       "      <td>0.288382</td>\n",
       "      <td>1</td>\n",
       "      <td>3</td>\n",
       "    </tr>\n",
       "    <tr>\n",
       "      <th>1048572</th>\n",
       "      <td>New York City</td>\n",
       "      <td>Bronx</td>\n",
       "      <td>1169.0</td>\n",
       "      <td>50 to 69</td>\n",
       "      <td>M</td>\n",
       "      <td>Other Race</td>\n",
       "      <td>Spanish/Hispanic</td>\n",
       "      <td>13</td>\n",
       "      <td>Emergency</td>\n",
       "      <td>Medicare Cert Long Term Care Hospital</td>\n",
       "      <td>...</td>\n",
       "      <td>4.0</td>\n",
       "      <td>Medical</td>\n",
       "      <td>0</td>\n",
       "      <td>N</td>\n",
       "      <td>Y</td>\n",
       "      <td>104629.78</td>\n",
       "      <td>24746.64</td>\n",
       "      <td>0.236516</td>\n",
       "      <td>0</td>\n",
       "      <td>3</td>\n",
       "    </tr>\n",
       "    <tr>\n",
       "      <th>1048573</th>\n",
       "      <td>New York City</td>\n",
       "      <td>Bronx</td>\n",
       "      <td>1169.0</td>\n",
       "      <td>30 to 49</td>\n",
       "      <td>F</td>\n",
       "      <td>Black/African American</td>\n",
       "      <td>Not Span/Hispanic</td>\n",
       "      <td>2</td>\n",
       "      <td>Emergency</td>\n",
       "      <td>Home or Self Care</td>\n",
       "      <td>...</td>\n",
       "      <td>1.0</td>\n",
       "      <td>Surgical</td>\n",
       "      <td>0</td>\n",
       "      <td>N</td>\n",
       "      <td>Y</td>\n",
       "      <td>27521.41</td>\n",
       "      <td>6766.04</td>\n",
       "      <td>0.245846</td>\n",
       "      <td>1</td>\n",
       "      <td>3</td>\n",
       "    </tr>\n",
       "    <tr>\n",
       "      <th>1048574</th>\n",
       "      <td>New York City</td>\n",
       "      <td>Bronx</td>\n",
       "      <td>1169.0</td>\n",
       "      <td>50 to 69</td>\n",
       "      <td>M</td>\n",
       "      <td>Other Race</td>\n",
       "      <td>Spanish/Hispanic</td>\n",
       "      <td>2</td>\n",
       "      <td>Emergency</td>\n",
       "      <td>Home or Self Care</td>\n",
       "      <td>...</td>\n",
       "      <td>1.0</td>\n",
       "      <td>Medical</td>\n",
       "      <td>0</td>\n",
       "      <td>N</td>\n",
       "      <td>Y</td>\n",
       "      <td>24832.23</td>\n",
       "      <td>4974.66</td>\n",
       "      <td>0.200331</td>\n",
       "      <td>1</td>\n",
       "      <td>2</td>\n",
       "    </tr>\n",
       "  </tbody>\n",
       "</table>\n",
       "<p>5 rows × 24 columns</p>\n",
       "</div>"
      ],
      "text/plain": [
       "          Area_Service Hospital County  Hospital Id          Age Gender  \\\n",
       "1048570  New York City           Bronx       1169.0  70 or Older      F   \n",
       "1048571  New York City           Bronx       1169.0      0 to 17      F   \n",
       "1048572  New York City           Bronx       1169.0     50 to 69      M   \n",
       "1048573  New York City           Bronx       1169.0     30 to 49      F   \n",
       "1048574  New York City           Bronx       1169.0     50 to 69      M   \n",
       "\n",
       "                 Cultural_group          ethnicity Days_spend_hsptl  \\\n",
       "1048570              Other Race   Spanish/Hispanic                6   \n",
       "1048571              Other Race  Not Span/Hispanic                2   \n",
       "1048572              Other Race   Spanish/Hispanic               13   \n",
       "1048573  Black/African American  Not Span/Hispanic                2   \n",
       "1048574              Other Race   Spanish/Hispanic                2   \n",
       "\n",
       "        Admission_type                     Home or self care,  ...  \\\n",
       "1048570      Emergency                   Skilled Nursing Home  ...   \n",
       "1048571      Emergency                      Home or Self Care  ...   \n",
       "1048572      Emergency  Medicare Cert Long Term Care Hospital  ...   \n",
       "1048573      Emergency                      Home or Self Care  ...   \n",
       "1048574      Emergency                      Home or Self Care  ...   \n",
       "\n",
       "         Mortality risk  Surg_Description Weight_baby  Abortion  \\\n",
       "1048570             3.0           Medical           0         N   \n",
       "1048571             1.0           Medical           0         N   \n",
       "1048572             4.0           Medical           0         N   \n",
       "1048573             1.0          Surgical           0         N   \n",
       "1048574             1.0           Medical           0         N   \n",
       "\n",
       "         Emergency dept_yes/No  Tot_charg  Tot_cost  \\\n",
       "1048570                      Y   69650.41  13896.82   \n",
       "1048571                      N   13587.38   3918.35   \n",
       "1048572                      Y  104629.78  24746.64   \n",
       "1048573                      Y   27521.41   6766.04   \n",
       "1048574                      Y   24832.23   4974.66   \n",
       "\n",
       "        ratio_of_total_costs_to_total_charges Result  Payment_Typology  \n",
       "1048570                              0.199522      1                 3  \n",
       "1048571                              0.288382      1                 3  \n",
       "1048572                              0.236516      0                 3  \n",
       "1048573                              0.245846      1                 3  \n",
       "1048574                              0.200331      1                 2  \n",
       "\n",
       "[5 rows x 24 columns]"
      ]
     },
     "execution_count": 5,
     "metadata": {},
     "output_type": "execute_result"
    }
   ],
   "source": [
    "df.tail()"
   ]
  },
  {
   "cell_type": "code",
   "execution_count": 6,
   "id": "f110527c",
   "metadata": {},
   "outputs": [
    {
     "name": "stdout",
     "output_type": "stream",
     "text": [
      "<class 'pandas.core.frame.DataFrame'>\n",
      "RangeIndex: 1048575 entries, 0 to 1048574\n",
      "Data columns (total 24 columns):\n",
      " #   Column                                 Non-Null Count    Dtype  \n",
      "---  ------                                 --------------    -----  \n",
      " 0   Area_Service                           1046119 non-null  object \n",
      " 1   Hospital County                        1046119 non-null  object \n",
      " 2   Hospital Id                            1046119 non-null  float64\n",
      " 3   Age                                    1048575 non-null  object \n",
      " 4   Gender                                 1048575 non-null  object \n",
      " 5   Cultural_group                         1048575 non-null  object \n",
      " 6   ethnicity                              1048575 non-null  object \n",
      " 7   Days_spend_hsptl                       1048575 non-null  object \n",
      " 8   Admission_type                         1048575 non-null  object \n",
      " 9   Home or self care,                     1048575 non-null  object \n",
      " 10  ccs_diagnosis_code                     1048575 non-null  int64  \n",
      " 11  ccs_procedure_code                     1048575 non-null  int64  \n",
      " 12  apr_drg_description                    1048575 non-null  object \n",
      " 13  Code_illness                           1048575 non-null  int64  \n",
      " 14  Mortality risk                         1048533 non-null  float64\n",
      " 15  Surg_Description                       1048575 non-null  object \n",
      " 16  Weight_baby                            1048575 non-null  int64  \n",
      " 17  Abortion                               1048575 non-null  object \n",
      " 18  Emergency dept_yes/No                  1048575 non-null  object \n",
      " 19  Tot_charg                              1048575 non-null  float64\n",
      " 20  Tot_cost                               1048575 non-null  float64\n",
      " 21  ratio_of_total_costs_to_total_charges  1048575 non-null  float64\n",
      " 22  Result                                 1048575 non-null  int64  \n",
      " 23  Payment_Typology                       1048575 non-null  int64  \n",
      "dtypes: float64(5), int64(6), object(13)\n",
      "memory usage: 192.0+ MB\n"
     ]
    }
   ],
   "source": [
    "df.info()"
   ]
  },
  {
   "cell_type": "code",
   "execution_count": 7,
   "id": "6a9d37f5",
   "metadata": {},
   "outputs": [
    {
     "data": {
      "text/html": [
       "<div>\n",
       "<style scoped>\n",
       "    .dataframe tbody tr th:only-of-type {\n",
       "        vertical-align: middle;\n",
       "    }\n",
       "\n",
       "    .dataframe tbody tr th {\n",
       "        vertical-align: top;\n",
       "    }\n",
       "\n",
       "    .dataframe thead th {\n",
       "        text-align: right;\n",
       "    }\n",
       "</style>\n",
       "<table border=\"1\" class=\"dataframe\">\n",
       "  <thead>\n",
       "    <tr style=\"text-align: right;\">\n",
       "      <th></th>\n",
       "      <th>Area_Service</th>\n",
       "      <th>Hospital County</th>\n",
       "      <th>Age</th>\n",
       "      <th>Gender</th>\n",
       "      <th>Cultural_group</th>\n",
       "      <th>ethnicity</th>\n",
       "      <th>Days_spend_hsptl</th>\n",
       "      <th>Admission_type</th>\n",
       "      <th>Home or self care,</th>\n",
       "      <th>apr_drg_description</th>\n",
       "      <th>Surg_Description</th>\n",
       "      <th>Abortion</th>\n",
       "      <th>Emergency dept_yes/No</th>\n",
       "    </tr>\n",
       "  </thead>\n",
       "  <tbody>\n",
       "    <tr>\n",
       "      <th>count</th>\n",
       "      <td>1046119</td>\n",
       "      <td>1046119</td>\n",
       "      <td>1048575</td>\n",
       "      <td>1048575</td>\n",
       "      <td>1048575</td>\n",
       "      <td>1048575</td>\n",
       "      <td>1048575</td>\n",
       "      <td>1048575</td>\n",
       "      <td>1048575</td>\n",
       "      <td>1048575</td>\n",
       "      <td>1048575</td>\n",
       "      <td>1048575</td>\n",
       "      <td>1048575</td>\n",
       "    </tr>\n",
       "    <tr>\n",
       "      <th>unique</th>\n",
       "      <td>7</td>\n",
       "      <td>51</td>\n",
       "      <td>5</td>\n",
       "      <td>3</td>\n",
       "      <td>4</td>\n",
       "      <td>3</td>\n",
       "      <td>120</td>\n",
       "      <td>6</td>\n",
       "      <td>19</td>\n",
       "      <td>316</td>\n",
       "      <td>3</td>\n",
       "      <td>2</td>\n",
       "      <td>2</td>\n",
       "    </tr>\n",
       "    <tr>\n",
       "      <th>top</th>\n",
       "      <td>Hudson Valley</td>\n",
       "      <td>Erie</td>\n",
       "      <td>70 or Older</td>\n",
       "      <td>F</td>\n",
       "      <td>White</td>\n",
       "      <td>Not Span/Hispanic</td>\n",
       "      <td>2</td>\n",
       "      <td>Emergency</td>\n",
       "      <td>Home or Self Care</td>\n",
       "      <td>Neonate birthwt &gt;2499g, normal newborn or neon...</td>\n",
       "      <td>Medical</td>\n",
       "      <td>N</td>\n",
       "      <td>Y</td>\n",
       "    </tr>\n",
       "    <tr>\n",
       "      <th>freq</th>\n",
       "      <td>261074</td>\n",
       "      <td>129242</td>\n",
       "      <td>306017</td>\n",
       "      <td>593506</td>\n",
       "      <td>781658</td>\n",
       "      <td>910555</td>\n",
       "      <td>236538</td>\n",
       "      <td>608595</td>\n",
       "      <td>694841</td>\n",
       "      <td>80169</td>\n",
       "      <td>805729</td>\n",
       "      <td>1047110</td>\n",
       "      <td>589954</td>\n",
       "    </tr>\n",
       "  </tbody>\n",
       "</table>\n",
       "</div>"
      ],
      "text/plain": [
       "         Area_Service Hospital County          Age   Gender Cultural_group  \\\n",
       "count         1046119         1046119      1048575  1048575        1048575   \n",
       "unique              7              51            5        3              4   \n",
       "top     Hudson Valley            Erie  70 or Older        F          White   \n",
       "freq           261074          129242       306017   593506         781658   \n",
       "\n",
       "                ethnicity Days_spend_hsptl Admission_type Home or self care,  \\\n",
       "count             1048575          1048575        1048575            1048575   \n",
       "unique                  3              120              6                 19   \n",
       "top     Not Span/Hispanic                2      Emergency  Home or Self Care   \n",
       "freq               910555           236538         608595             694841   \n",
       "\n",
       "                                      apr_drg_description Surg_Description  \\\n",
       "count                                             1048575          1048575   \n",
       "unique                                                316                3   \n",
       "top     Neonate birthwt >2499g, normal newborn or neon...          Medical   \n",
       "freq                                                80169           805729   \n",
       "\n",
       "       Abortion Emergency dept_yes/No  \n",
       "count   1048575               1048575  \n",
       "unique        2                     2  \n",
       "top           N                     Y  \n",
       "freq    1047110                589954  "
      ]
     },
     "execution_count": 7,
     "metadata": {},
     "output_type": "execute_result"
    }
   ],
   "source": [
    "df.describe(include='O')"
   ]
  },
  {
   "cell_type": "markdown",
   "id": "3c104771",
   "metadata": {},
   "source": [
    "MISSING VALUES"
   ]
  },
  {
   "cell_type": "code",
   "execution_count": 8,
   "id": "d7f7de7b",
   "metadata": {},
   "outputs": [
    {
     "data": {
      "text/plain": [
       "Area_Service                             2456\n",
       "Hospital County                          2456\n",
       "Hospital Id                              2456\n",
       "Age                                         0\n",
       "Gender                                      0\n",
       "Cultural_group                              0\n",
       "ethnicity                                   0\n",
       "Days_spend_hsptl                            0\n",
       "Admission_type                              0\n",
       "Home or self care,                          0\n",
       "ccs_diagnosis_code                          0\n",
       "ccs_procedure_code                          0\n",
       "apr_drg_description                         0\n",
       "Code_illness                                0\n",
       "Mortality risk                             42\n",
       "Surg_Description                            0\n",
       "Weight_baby                                 0\n",
       "Abortion                                    0\n",
       "Emergency dept_yes/No                       0\n",
       "Tot_charg                                   0\n",
       "Tot_cost                                    0\n",
       "ratio_of_total_costs_to_total_charges       0\n",
       "Result                                      0\n",
       "Payment_Typology                            0\n",
       "dtype: int64"
      ]
     },
     "execution_count": 8,
     "metadata": {},
     "output_type": "execute_result"
    }
   ],
   "source": [
    "df.isnull().sum()"
   ]
  },
  {
   "cell_type": "markdown",
   "id": "dcc8d422",
   "metadata": {},
   "source": [
    "## HANDLING MISSING VALUES"
   ]
  },
  {
   "cell_type": "code",
   "execution_count": 9,
   "id": "cb6eb40f",
   "metadata": {},
   "outputs": [
    {
     "data": {
      "text/plain": [
       "Area_Service                             0.234223\n",
       "Hospital County                          0.234223\n",
       "Hospital Id                              0.234223\n",
       "Age                                      0.000000\n",
       "Gender                                   0.000000\n",
       "Cultural_group                           0.000000\n",
       "ethnicity                                0.000000\n",
       "Days_spend_hsptl                         0.000000\n",
       "Admission_type                           0.000000\n",
       "Home or self care,                       0.000000\n",
       "ccs_diagnosis_code                       0.000000\n",
       "ccs_procedure_code                       0.000000\n",
       "apr_drg_description                      0.000000\n",
       "Code_illness                             0.000000\n",
       "Mortality risk                           0.004005\n",
       "Surg_Description                         0.000000\n",
       "Weight_baby                              0.000000\n",
       "Abortion                                 0.000000\n",
       "Emergency dept_yes/No                    0.000000\n",
       "Tot_charg                                0.000000\n",
       "Tot_cost                                 0.000000\n",
       "ratio_of_total_costs_to_total_charges    0.000000\n",
       "Result                                   0.000000\n",
       "Payment_Typology                         0.000000\n",
       "dtype: float64"
      ]
     },
     "execution_count": 9,
     "metadata": {},
     "output_type": "execute_result"
    }
   ],
   "source": [
    "null = df.isnull().sum()\n",
    "N = len(df)\n",
    "null_values = (null*100)/N\n",
    "null_values"
   ]
  },
  {
   "cell_type": "code",
   "execution_count": 10,
   "id": "02f12285",
   "metadata": {},
   "outputs": [],
   "source": [
    "#As we got less percentage of null values , thats why we decided to delete it "
   ]
  },
  {
   "cell_type": "code",
   "execution_count": 11,
   "id": "167a78e3",
   "metadata": {},
   "outputs": [],
   "source": [
    "df=df.dropna()"
   ]
  },
  {
   "cell_type": "code",
   "execution_count": 12,
   "id": "bd695564",
   "metadata": {},
   "outputs": [
    {
     "data": {
      "text/plain": [
       "Area_Service                             0\n",
       "Hospital County                          0\n",
       "Hospital Id                              0\n",
       "Age                                      0\n",
       "Gender                                   0\n",
       "Cultural_group                           0\n",
       "ethnicity                                0\n",
       "Days_spend_hsptl                         0\n",
       "Admission_type                           0\n",
       "Home or self care,                       0\n",
       "ccs_diagnosis_code                       0\n",
       "ccs_procedure_code                       0\n",
       "apr_drg_description                      0\n",
       "Code_illness                             0\n",
       "Mortality risk                           0\n",
       "Surg_Description                         0\n",
       "Weight_baby                              0\n",
       "Abortion                                 0\n",
       "Emergency dept_yes/No                    0\n",
       "Tot_charg                                0\n",
       "Tot_cost                                 0\n",
       "ratio_of_total_costs_to_total_charges    0\n",
       "Result                                   0\n",
       "Payment_Typology                         0\n",
       "dtype: int64"
      ]
     },
     "execution_count": 12,
     "metadata": {},
     "output_type": "execute_result"
    }
   ],
   "source": [
    "df.isnull().sum()"
   ]
  },
  {
   "cell_type": "markdown",
   "id": "ab4d4ebd",
   "metadata": {},
   "source": [
    "# Finding correlation between Hospital Id and Result column "
   ]
  },
  {
   "cell_type": "code",
   "execution_count": 13,
   "id": "cf8cb714",
   "metadata": {},
   "outputs": [
    {
     "data": {
      "text/plain": [
       "-0.0012236546891929918"
      ]
     },
     "execution_count": 13,
     "metadata": {},
     "output_type": "execute_result"
    }
   ],
   "source": [
    "corr_hos=df[\"Hospital Id\"].corr(df[\"Result\"])\n",
    "corr_hos"
   ]
  },
  {
   "cell_type": "code",
   "execution_count": 14,
   "id": "cbde4965",
   "metadata": {},
   "outputs": [],
   "source": [
    "df.drop(columns=['Hospital Id'], axis= 1 ,inplace= True)"
   ]
  },
  {
   "cell_type": "code",
   "execution_count": 15,
   "id": "0e2de760",
   "metadata": {},
   "outputs": [],
   "source": [
    "# as there is no relationship between Hospital Id and Result(Target Column , so we decided to delete it )"
   ]
  },
  {
   "cell_type": "code",
   "execution_count": 16,
   "id": "4fe6bbee",
   "metadata": {
    "scrolled": true
   },
   "outputs": [
    {
     "data": {
      "text/html": [
       "<div>\n",
       "<style scoped>\n",
       "    .dataframe tbody tr th:only-of-type {\n",
       "        vertical-align: middle;\n",
       "    }\n",
       "\n",
       "    .dataframe tbody tr th {\n",
       "        vertical-align: top;\n",
       "    }\n",
       "\n",
       "    .dataframe thead th {\n",
       "        text-align: right;\n",
       "    }\n",
       "</style>\n",
       "<table border=\"1\" class=\"dataframe\">\n",
       "  <thead>\n",
       "    <tr style=\"text-align: right;\">\n",
       "      <th></th>\n",
       "      <th>Area_Service</th>\n",
       "      <th>Hospital County</th>\n",
       "      <th>Age</th>\n",
       "      <th>Gender</th>\n",
       "      <th>Cultural_group</th>\n",
       "      <th>ethnicity</th>\n",
       "      <th>Days_spend_hsptl</th>\n",
       "      <th>Admission_type</th>\n",
       "      <th>Home or self care,</th>\n",
       "      <th>ccs_diagnosis_code</th>\n",
       "      <th>...</th>\n",
       "      <th>Mortality risk</th>\n",
       "      <th>Surg_Description</th>\n",
       "      <th>Weight_baby</th>\n",
       "      <th>Abortion</th>\n",
       "      <th>Emergency dept_yes/No</th>\n",
       "      <th>Tot_charg</th>\n",
       "      <th>Tot_cost</th>\n",
       "      <th>ratio_of_total_costs_to_total_charges</th>\n",
       "      <th>Result</th>\n",
       "      <th>Payment_Typology</th>\n",
       "    </tr>\n",
       "  </thead>\n",
       "  <tbody>\n",
       "    <tr>\n",
       "      <th>0</th>\n",
       "      <td>Western NY</td>\n",
       "      <td>Allegany</td>\n",
       "      <td>30 to 49</td>\n",
       "      <td>F</td>\n",
       "      <td>White</td>\n",
       "      <td>Not Span/Hispanic</td>\n",
       "      <td>4</td>\n",
       "      <td>Elective</td>\n",
       "      <td>Home or Self Care</td>\n",
       "      <td>122</td>\n",
       "      <td>...</td>\n",
       "      <td>1.0</td>\n",
       "      <td>Medical</td>\n",
       "      <td>0</td>\n",
       "      <td>N</td>\n",
       "      <td>Y</td>\n",
       "      <td>5511.95</td>\n",
       "      <td>5582.49</td>\n",
       "      <td>1.012798</td>\n",
       "      <td>1</td>\n",
       "      <td>1</td>\n",
       "    </tr>\n",
       "    <tr>\n",
       "      <th>1</th>\n",
       "      <td>Western NY</td>\n",
       "      <td>Allegany</td>\n",
       "      <td>70 or Older</td>\n",
       "      <td>F</td>\n",
       "      <td>White</td>\n",
       "      <td>Not Span/Hispanic</td>\n",
       "      <td>4</td>\n",
       "      <td>Urgent</td>\n",
       "      <td>Short-term Hospital</td>\n",
       "      <td>197</td>\n",
       "      <td>...</td>\n",
       "      <td>2.0</td>\n",
       "      <td>Medical</td>\n",
       "      <td>0</td>\n",
       "      <td>N</td>\n",
       "      <td>Y</td>\n",
       "      <td>4783.20</td>\n",
       "      <td>5162.82</td>\n",
       "      <td>1.079365</td>\n",
       "      <td>1</td>\n",
       "      <td>1</td>\n",
       "    </tr>\n",
       "    <tr>\n",
       "      <th>2</th>\n",
       "      <td>Western NY</td>\n",
       "      <td>Allegany</td>\n",
       "      <td>30 to 49</td>\n",
       "      <td>F</td>\n",
       "      <td>White</td>\n",
       "      <td>Not Span/Hispanic</td>\n",
       "      <td>3</td>\n",
       "      <td>Urgent</td>\n",
       "      <td>Home or Self Care</td>\n",
       "      <td>122</td>\n",
       "      <td>...</td>\n",
       "      <td>1.0</td>\n",
       "      <td>Medical</td>\n",
       "      <td>0</td>\n",
       "      <td>N</td>\n",
       "      <td>Y</td>\n",
       "      <td>3829.15</td>\n",
       "      <td>4056.52</td>\n",
       "      <td>1.059379</td>\n",
       "      <td>1</td>\n",
       "      <td>1</td>\n",
       "    </tr>\n",
       "    <tr>\n",
       "      <th>3</th>\n",
       "      <td>Western NY</td>\n",
       "      <td>Allegany</td>\n",
       "      <td>0 to 17</td>\n",
       "      <td>F</td>\n",
       "      <td>White</td>\n",
       "      <td>Not Span/Hispanic</td>\n",
       "      <td>1</td>\n",
       "      <td>Urgent</td>\n",
       "      <td>Home or Self Care</td>\n",
       "      <td>122</td>\n",
       "      <td>...</td>\n",
       "      <td>1.0</td>\n",
       "      <td>Medical</td>\n",
       "      <td>0</td>\n",
       "      <td>N</td>\n",
       "      <td>Y</td>\n",
       "      <td>1108.20</td>\n",
       "      <td>1644.75</td>\n",
       "      <td>1.484167</td>\n",
       "      <td>0</td>\n",
       "      <td>1</td>\n",
       "    </tr>\n",
       "    <tr>\n",
       "      <th>4</th>\n",
       "      <td>Western NY</td>\n",
       "      <td>Allegany</td>\n",
       "      <td>70 or Older</td>\n",
       "      <td>F</td>\n",
       "      <td>White</td>\n",
       "      <td>Not Span/Hispanic</td>\n",
       "      <td>3</td>\n",
       "      <td>Elective</td>\n",
       "      <td>Home or Self Care</td>\n",
       "      <td>122</td>\n",
       "      <td>...</td>\n",
       "      <td>3.0</td>\n",
       "      <td>Medical</td>\n",
       "      <td>0</td>\n",
       "      <td>N</td>\n",
       "      <td>Y</td>\n",
       "      <td>3418.18</td>\n",
       "      <td>3370.87</td>\n",
       "      <td>0.986161</td>\n",
       "      <td>1</td>\n",
       "      <td>1</td>\n",
       "    </tr>\n",
       "  </tbody>\n",
       "</table>\n",
       "<p>5 rows × 23 columns</p>\n",
       "</div>"
      ],
      "text/plain": [
       "  Area_Service Hospital County          Age Gender Cultural_group  \\\n",
       "0   Western NY        Allegany     30 to 49      F          White   \n",
       "1   Western NY        Allegany  70 or Older      F          White   \n",
       "2   Western NY        Allegany     30 to 49      F          White   \n",
       "3   Western NY        Allegany      0 to 17      F          White   \n",
       "4   Western NY        Allegany  70 or Older      F          White   \n",
       "\n",
       "           ethnicity Days_spend_hsptl Admission_type   Home or self care,  \\\n",
       "0  Not Span/Hispanic                4       Elective    Home or Self Care   \n",
       "1  Not Span/Hispanic                4         Urgent  Short-term Hospital   \n",
       "2  Not Span/Hispanic                3         Urgent    Home or Self Care   \n",
       "3  Not Span/Hispanic                1         Urgent    Home or Self Care   \n",
       "4  Not Span/Hispanic                3       Elective    Home or Self Care   \n",
       "\n",
       "   ccs_diagnosis_code  ...  Mortality risk Surg_Description  Weight_baby  \\\n",
       "0                 122  ...             1.0          Medical            0   \n",
       "1                 197  ...             2.0          Medical            0   \n",
       "2                 122  ...             1.0          Medical            0   \n",
       "3                 122  ...             1.0          Medical            0   \n",
       "4                 122  ...             3.0          Medical            0   \n",
       "\n",
       "   Abortion Emergency dept_yes/No  Tot_charg Tot_cost  \\\n",
       "0         N                     Y    5511.95  5582.49   \n",
       "1         N                     Y    4783.20  5162.82   \n",
       "2         N                     Y    3829.15  4056.52   \n",
       "3         N                     Y    1108.20  1644.75   \n",
       "4         N                     Y    3418.18  3370.87   \n",
       "\n",
       "  ratio_of_total_costs_to_total_charges  Result  Payment_Typology  \n",
       "0                              1.012798       1                 1  \n",
       "1                              1.079365       1                 1  \n",
       "2                              1.059379       1                 1  \n",
       "3                              1.484167       0                 1  \n",
       "4                              0.986161       1                 1  \n",
       "\n",
       "[5 rows x 23 columns]"
      ]
     },
     "execution_count": 16,
     "metadata": {},
     "output_type": "execute_result"
    }
   ],
   "source": [
    "df.head(5)"
   ]
  },
  {
   "cell_type": "markdown",
   "id": "6ab334da",
   "metadata": {},
   "source": [
    "## Handling Duplicate values"
   ]
  },
  {
   "cell_type": "code",
   "execution_count": 17,
   "id": "677d860b",
   "metadata": {},
   "outputs": [
    {
     "data": {
      "text/plain": [
       "4814"
      ]
     },
     "execution_count": 17,
     "metadata": {},
     "output_type": "execute_result"
    }
   ],
   "source": [
    "df.duplicated(keep='first').sum()"
   ]
  },
  {
   "cell_type": "code",
   "execution_count": 18,
   "id": "06f58a76",
   "metadata": {},
   "outputs": [
    {
     "data": {
      "text/html": [
       "<div>\n",
       "<style scoped>\n",
       "    .dataframe tbody tr th:only-of-type {\n",
       "        vertical-align: middle;\n",
       "    }\n",
       "\n",
       "    .dataframe tbody tr th {\n",
       "        vertical-align: top;\n",
       "    }\n",
       "\n",
       "    .dataframe thead th {\n",
       "        text-align: right;\n",
       "    }\n",
       "</style>\n",
       "<table border=\"1\" class=\"dataframe\">\n",
       "  <thead>\n",
       "    <tr style=\"text-align: right;\">\n",
       "      <th></th>\n",
       "      <th>Area_Service</th>\n",
       "      <th>Hospital County</th>\n",
       "      <th>Age</th>\n",
       "      <th>Gender</th>\n",
       "      <th>Cultural_group</th>\n",
       "      <th>ethnicity</th>\n",
       "      <th>Days_spend_hsptl</th>\n",
       "      <th>Admission_type</th>\n",
       "      <th>Home or self care,</th>\n",
       "      <th>ccs_diagnosis_code</th>\n",
       "      <th>...</th>\n",
       "      <th>Mortality risk</th>\n",
       "      <th>Surg_Description</th>\n",
       "      <th>Weight_baby</th>\n",
       "      <th>Abortion</th>\n",
       "      <th>Emergency dept_yes/No</th>\n",
       "      <th>Tot_charg</th>\n",
       "      <th>Tot_cost</th>\n",
       "      <th>ratio_of_total_costs_to_total_charges</th>\n",
       "      <th>Result</th>\n",
       "      <th>Payment_Typology</th>\n",
       "    </tr>\n",
       "  </thead>\n",
       "  <tbody>\n",
       "    <tr>\n",
       "      <th>1125</th>\n",
       "      <td>Western NY</td>\n",
       "      <td>Allegany</td>\n",
       "      <td>0 to 17</td>\n",
       "      <td>M</td>\n",
       "      <td>White</td>\n",
       "      <td>Not Span/Hispanic</td>\n",
       "      <td>2</td>\n",
       "      <td>Newborn</td>\n",
       "      <td>Home or Self Care</td>\n",
       "      <td>218</td>\n",
       "      <td>...</td>\n",
       "      <td>1.0</td>\n",
       "      <td>Medical</td>\n",
       "      <td>3700</td>\n",
       "      <td>N</td>\n",
       "      <td>N</td>\n",
       "      <td>1678.75</td>\n",
       "      <td>737.21</td>\n",
       "      <td>0.439141</td>\n",
       "      <td>1</td>\n",
       "      <td>1</td>\n",
       "    </tr>\n",
       "    <tr>\n",
       "      <th>3086</th>\n",
       "      <td>Western NY</td>\n",
       "      <td>Cattaraugus</td>\n",
       "      <td>0 to 17</td>\n",
       "      <td>M</td>\n",
       "      <td>White</td>\n",
       "      <td>Not Span/Hispanic</td>\n",
       "      <td>2</td>\n",
       "      <td>Newborn</td>\n",
       "      <td>Home or Self Care</td>\n",
       "      <td>218</td>\n",
       "      <td>...</td>\n",
       "      <td>1.0</td>\n",
       "      <td>Medical</td>\n",
       "      <td>3600</td>\n",
       "      <td>N</td>\n",
       "      <td>N</td>\n",
       "      <td>1251.50</td>\n",
       "      <td>829.70</td>\n",
       "      <td>0.662961</td>\n",
       "      <td>0</td>\n",
       "      <td>1</td>\n",
       "    </tr>\n",
       "    <tr>\n",
       "      <th>3226</th>\n",
       "      <td>Western NY</td>\n",
       "      <td>Cattaraugus</td>\n",
       "      <td>0 to 17</td>\n",
       "      <td>F</td>\n",
       "      <td>White</td>\n",
       "      <td>Not Span/Hispanic</td>\n",
       "      <td>2</td>\n",
       "      <td>Newborn</td>\n",
       "      <td>Home or Self Care</td>\n",
       "      <td>218</td>\n",
       "      <td>...</td>\n",
       "      <td>1.0</td>\n",
       "      <td>Medical</td>\n",
       "      <td>2700</td>\n",
       "      <td>N</td>\n",
       "      <td>N</td>\n",
       "      <td>1150.50</td>\n",
       "      <td>788.65</td>\n",
       "      <td>0.685486</td>\n",
       "      <td>1</td>\n",
       "      <td>1</td>\n",
       "    </tr>\n",
       "    <tr>\n",
       "      <th>4209</th>\n",
       "      <td>Western NY</td>\n",
       "      <td>Cattaraugus</td>\n",
       "      <td>0 to 17</td>\n",
       "      <td>F</td>\n",
       "      <td>White</td>\n",
       "      <td>Not Span/Hispanic</td>\n",
       "      <td>2</td>\n",
       "      <td>Newborn</td>\n",
       "      <td>Home or Self Care</td>\n",
       "      <td>218</td>\n",
       "      <td>...</td>\n",
       "      <td>1.0</td>\n",
       "      <td>Medical</td>\n",
       "      <td>2700</td>\n",
       "      <td>N</td>\n",
       "      <td>N</td>\n",
       "      <td>1150.50</td>\n",
       "      <td>788.65</td>\n",
       "      <td>0.685486</td>\n",
       "      <td>1</td>\n",
       "      <td>1</td>\n",
       "    </tr>\n",
       "    <tr>\n",
       "      <th>4234</th>\n",
       "      <td>Western NY</td>\n",
       "      <td>Cattaraugus</td>\n",
       "      <td>0 to 17</td>\n",
       "      <td>F</td>\n",
       "      <td>White</td>\n",
       "      <td>Not Span/Hispanic</td>\n",
       "      <td>2</td>\n",
       "      <td>Newborn</td>\n",
       "      <td>Home or Self Care</td>\n",
       "      <td>218</td>\n",
       "      <td>...</td>\n",
       "      <td>1.0</td>\n",
       "      <td>Medical</td>\n",
       "      <td>2800</td>\n",
       "      <td>N</td>\n",
       "      <td>N</td>\n",
       "      <td>1150.50</td>\n",
       "      <td>788.65</td>\n",
       "      <td>0.685486</td>\n",
       "      <td>0</td>\n",
       "      <td>1</td>\n",
       "    </tr>\n",
       "    <tr>\n",
       "      <th>...</th>\n",
       "      <td>...</td>\n",
       "      <td>...</td>\n",
       "      <td>...</td>\n",
       "      <td>...</td>\n",
       "      <td>...</td>\n",
       "      <td>...</td>\n",
       "      <td>...</td>\n",
       "      <td>...</td>\n",
       "      <td>...</td>\n",
       "      <td>...</td>\n",
       "      <td>...</td>\n",
       "      <td>...</td>\n",
       "      <td>...</td>\n",
       "      <td>...</td>\n",
       "      <td>...</td>\n",
       "      <td>...</td>\n",
       "      <td>...</td>\n",
       "      <td>...</td>\n",
       "      <td>...</td>\n",
       "      <td>...</td>\n",
       "      <td>...</td>\n",
       "    </tr>\n",
       "    <tr>\n",
       "      <th>1015327</th>\n",
       "      <td>New York City</td>\n",
       "      <td>Bronx</td>\n",
       "      <td>0 to 17</td>\n",
       "      <td>F</td>\n",
       "      <td>Other Race</td>\n",
       "      <td>Not Span/Hispanic</td>\n",
       "      <td>2</td>\n",
       "      <td>Newborn</td>\n",
       "      <td>Home or Self Care</td>\n",
       "      <td>218</td>\n",
       "      <td>...</td>\n",
       "      <td>1.0</td>\n",
       "      <td>Medical</td>\n",
       "      <td>2900</td>\n",
       "      <td>N</td>\n",
       "      <td>N</td>\n",
       "      <td>5955.85</td>\n",
       "      <td>1303.62</td>\n",
       "      <td>0.218881</td>\n",
       "      <td>1</td>\n",
       "      <td>3</td>\n",
       "    </tr>\n",
       "    <tr>\n",
       "      <th>1025529</th>\n",
       "      <td>New York City</td>\n",
       "      <td>Bronx</td>\n",
       "      <td>0 to 17</td>\n",
       "      <td>F</td>\n",
       "      <td>Other Race</td>\n",
       "      <td>Spanish/Hispanic</td>\n",
       "      <td>2</td>\n",
       "      <td>Elective</td>\n",
       "      <td>Home or Self Care</td>\n",
       "      <td>83</td>\n",
       "      <td>...</td>\n",
       "      <td>1.0</td>\n",
       "      <td>Medical</td>\n",
       "      <td>0</td>\n",
       "      <td>N</td>\n",
       "      <td>N</td>\n",
       "      <td>12500.00</td>\n",
       "      <td>2960.11</td>\n",
       "      <td>0.236809</td>\n",
       "      <td>1</td>\n",
       "      <td>3</td>\n",
       "    </tr>\n",
       "    <tr>\n",
       "      <th>1028997</th>\n",
       "      <td>New York City</td>\n",
       "      <td>Bronx</td>\n",
       "      <td>0 to 17</td>\n",
       "      <td>F</td>\n",
       "      <td>Other Race</td>\n",
       "      <td>Spanish/Hispanic</td>\n",
       "      <td>2</td>\n",
       "      <td>Elective</td>\n",
       "      <td>Home or Self Care</td>\n",
       "      <td>83</td>\n",
       "      <td>...</td>\n",
       "      <td>1.0</td>\n",
       "      <td>Medical</td>\n",
       "      <td>0</td>\n",
       "      <td>N</td>\n",
       "      <td>N</td>\n",
       "      <td>12557.00</td>\n",
       "      <td>2963.40</td>\n",
       "      <td>0.235996</td>\n",
       "      <td>1</td>\n",
       "      <td>2</td>\n",
       "    </tr>\n",
       "    <tr>\n",
       "      <th>1035973</th>\n",
       "      <td>New York City</td>\n",
       "      <td>Bronx</td>\n",
       "      <td>0 to 17</td>\n",
       "      <td>F</td>\n",
       "      <td>Other Race</td>\n",
       "      <td>Spanish/Hispanic</td>\n",
       "      <td>2</td>\n",
       "      <td>Elective</td>\n",
       "      <td>Home or Self Care</td>\n",
       "      <td>83</td>\n",
       "      <td>...</td>\n",
       "      <td>1.0</td>\n",
       "      <td>Medical</td>\n",
       "      <td>0</td>\n",
       "      <td>N</td>\n",
       "      <td>N</td>\n",
       "      <td>12500.00</td>\n",
       "      <td>2960.11</td>\n",
       "      <td>0.236809</td>\n",
       "      <td>1</td>\n",
       "      <td>3</td>\n",
       "    </tr>\n",
       "    <tr>\n",
       "      <th>1043713</th>\n",
       "      <td>New York City</td>\n",
       "      <td>Bronx</td>\n",
       "      <td>0 to 17</td>\n",
       "      <td>M</td>\n",
       "      <td>Other Race</td>\n",
       "      <td>Spanish/Hispanic</td>\n",
       "      <td>10</td>\n",
       "      <td>Emergency</td>\n",
       "      <td>Home or Self Care</td>\n",
       "      <td>135</td>\n",
       "      <td>...</td>\n",
       "      <td>3.0</td>\n",
       "      <td>Medical</td>\n",
       "      <td>0</td>\n",
       "      <td>N</td>\n",
       "      <td>Y</td>\n",
       "      <td>65223.50</td>\n",
       "      <td>19853.07</td>\n",
       "      <td>0.304385</td>\n",
       "      <td>0</td>\n",
       "      <td>3</td>\n",
       "    </tr>\n",
       "  </tbody>\n",
       "</table>\n",
       "<p>4814 rows × 23 columns</p>\n",
       "</div>"
      ],
      "text/plain": [
       "          Area_Service Hospital County      Age Gender Cultural_group  \\\n",
       "1125        Western NY        Allegany  0 to 17      M          White   \n",
       "3086        Western NY     Cattaraugus  0 to 17      M          White   \n",
       "3226        Western NY     Cattaraugus  0 to 17      F          White   \n",
       "4209        Western NY     Cattaraugus  0 to 17      F          White   \n",
       "4234        Western NY     Cattaraugus  0 to 17      F          White   \n",
       "...                ...             ...      ...    ...            ...   \n",
       "1015327  New York City           Bronx  0 to 17      F     Other Race   \n",
       "1025529  New York City           Bronx  0 to 17      F     Other Race   \n",
       "1028997  New York City           Bronx  0 to 17      F     Other Race   \n",
       "1035973  New York City           Bronx  0 to 17      F     Other Race   \n",
       "1043713  New York City           Bronx  0 to 17      M     Other Race   \n",
       "\n",
       "                 ethnicity Days_spend_hsptl Admission_type Home or self care,  \\\n",
       "1125     Not Span/Hispanic                2        Newborn  Home or Self Care   \n",
       "3086     Not Span/Hispanic                2        Newborn  Home or Self Care   \n",
       "3226     Not Span/Hispanic                2        Newborn  Home or Self Care   \n",
       "4209     Not Span/Hispanic                2        Newborn  Home or Self Care   \n",
       "4234     Not Span/Hispanic                2        Newborn  Home or Self Care   \n",
       "...                    ...              ...            ...                ...   \n",
       "1015327  Not Span/Hispanic                2        Newborn  Home or Self Care   \n",
       "1025529   Spanish/Hispanic                2       Elective  Home or Self Care   \n",
       "1028997   Spanish/Hispanic                2       Elective  Home or Self Care   \n",
       "1035973   Spanish/Hispanic                2       Elective  Home or Self Care   \n",
       "1043713   Spanish/Hispanic               10      Emergency  Home or Self Care   \n",
       "\n",
       "         ccs_diagnosis_code  ...  Mortality risk Surg_Description  \\\n",
       "1125                    218  ...             1.0          Medical   \n",
       "3086                    218  ...             1.0          Medical   \n",
       "3226                    218  ...             1.0          Medical   \n",
       "4209                    218  ...             1.0          Medical   \n",
       "4234                    218  ...             1.0          Medical   \n",
       "...                     ...  ...             ...              ...   \n",
       "1015327                 218  ...             1.0          Medical   \n",
       "1025529                  83  ...             1.0          Medical   \n",
       "1028997                  83  ...             1.0          Medical   \n",
       "1035973                  83  ...             1.0          Medical   \n",
       "1043713                 135  ...             3.0          Medical   \n",
       "\n",
       "         Weight_baby  Abortion Emergency dept_yes/No  Tot_charg  Tot_cost  \\\n",
       "1125            3700         N                     N    1678.75    737.21   \n",
       "3086            3600         N                     N    1251.50    829.70   \n",
       "3226            2700         N                     N    1150.50    788.65   \n",
       "4209            2700         N                     N    1150.50    788.65   \n",
       "4234            2800         N                     N    1150.50    788.65   \n",
       "...              ...       ...                   ...        ...       ...   \n",
       "1015327         2900         N                     N    5955.85   1303.62   \n",
       "1025529            0         N                     N   12500.00   2960.11   \n",
       "1028997            0         N                     N   12557.00   2963.40   \n",
       "1035973            0         N                     N   12500.00   2960.11   \n",
       "1043713            0         N                     Y   65223.50  19853.07   \n",
       "\n",
       "        ratio_of_total_costs_to_total_charges  Result  Payment_Typology  \n",
       "1125                                 0.439141       1                 1  \n",
       "3086                                 0.662961       0                 1  \n",
       "3226                                 0.685486       1                 1  \n",
       "4209                                 0.685486       1                 1  \n",
       "4234                                 0.685486       0                 1  \n",
       "...                                       ...     ...               ...  \n",
       "1015327                              0.218881       1                 3  \n",
       "1025529                              0.236809       1                 3  \n",
       "1028997                              0.235996       1                 2  \n",
       "1035973                              0.236809       1                 3  \n",
       "1043713                              0.304385       0                 3  \n",
       "\n",
       "[4814 rows x 23 columns]"
      ]
     },
     "execution_count": 18,
     "metadata": {},
     "output_type": "execute_result"
    }
   ],
   "source": [
    "df.loc[df.duplicated(keep='first'),:]"
   ]
  },
  {
   "cell_type": "code",
   "execution_count": 19,
   "id": "26e9d4da",
   "metadata": {},
   "outputs": [],
   "source": [
    "dup = df.duplicated().sum()\n",
    "n = len(df)\n",
    "percentage_of_duplicates = (dup*100)/n"
   ]
  },
  {
   "cell_type": "code",
   "execution_count": 20,
   "id": "e0072c3b",
   "metadata": {},
   "outputs": [
    {
     "data": {
      "text/plain": [
       "0.46019556877744183"
      ]
     },
     "execution_count": 20,
     "metadata": {},
     "output_type": "execute_result"
    }
   ],
   "source": [
    "percentage_of_duplicates"
   ]
  },
  {
   "cell_type": "markdown",
   "id": "d977c896",
   "metadata": {},
   "source": [
    "As percentage of Duplicate values is less (0.4601) so we deleted it "
   ]
  },
  {
   "cell_type": "code",
   "execution_count": 21,
   "id": "44a6e574",
   "metadata": {},
   "outputs": [],
   "source": [
    "df.drop_duplicates(keep='first', inplace=True)"
   ]
  },
  {
   "cell_type": "code",
   "execution_count": 22,
   "id": "025710f9",
   "metadata": {},
   "outputs": [
    {
     "data": {
      "text/html": [
       "<div>\n",
       "<style scoped>\n",
       "    .dataframe tbody tr th:only-of-type {\n",
       "        vertical-align: middle;\n",
       "    }\n",
       "\n",
       "    .dataframe tbody tr th {\n",
       "        vertical-align: top;\n",
       "    }\n",
       "\n",
       "    .dataframe thead th {\n",
       "        text-align: right;\n",
       "    }\n",
       "</style>\n",
       "<table border=\"1\" class=\"dataframe\">\n",
       "  <thead>\n",
       "    <tr style=\"text-align: right;\">\n",
       "      <th></th>\n",
       "      <th>Area_Service</th>\n",
       "      <th>Hospital County</th>\n",
       "      <th>Age</th>\n",
       "      <th>Gender</th>\n",
       "      <th>Cultural_group</th>\n",
       "      <th>ethnicity</th>\n",
       "      <th>Days_spend_hsptl</th>\n",
       "      <th>Admission_type</th>\n",
       "      <th>Home or self care,</th>\n",
       "      <th>ccs_diagnosis_code</th>\n",
       "      <th>...</th>\n",
       "      <th>Mortality risk</th>\n",
       "      <th>Surg_Description</th>\n",
       "      <th>Weight_baby</th>\n",
       "      <th>Abortion</th>\n",
       "      <th>Emergency dept_yes/No</th>\n",
       "      <th>Tot_charg</th>\n",
       "      <th>Tot_cost</th>\n",
       "      <th>ratio_of_total_costs_to_total_charges</th>\n",
       "      <th>Result</th>\n",
       "      <th>Payment_Typology</th>\n",
       "    </tr>\n",
       "  </thead>\n",
       "  <tbody>\n",
       "  </tbody>\n",
       "</table>\n",
       "<p>0 rows × 23 columns</p>\n",
       "</div>"
      ],
      "text/plain": [
       "Empty DataFrame\n",
       "Columns: [Area_Service, Hospital County, Age, Gender, Cultural_group, ethnicity, Days_spend_hsptl, Admission_type, Home or self care,, ccs_diagnosis_code, ccs_procedure_code, apr_drg_description, Code_illness, Mortality risk, Surg_Description, Weight_baby, Abortion, Emergency dept_yes/No, Tot_charg, Tot_cost, ratio_of_total_costs_to_total_charges, Result, Payment_Typology]\n",
       "Index: []\n",
       "\n",
       "[0 rows x 23 columns]"
      ]
     },
     "execution_count": 22,
     "metadata": {},
     "output_type": "execute_result"
    }
   ],
   "source": [
    "df[df.duplicated()]"
   ]
  },
  {
   "cell_type": "code",
   "execution_count": 23,
   "id": "3b93fee4",
   "metadata": {},
   "outputs": [
    {
     "data": {
      "text/plain": [
       "(1041263, 23)"
      ]
     },
     "execution_count": 23,
     "metadata": {},
     "output_type": "execute_result"
    }
   ],
   "source": [
    "df.shape"
   ]
  },
  {
   "cell_type": "markdown",
   "id": "c2be740c",
   "metadata": {},
   "source": [
    "## Handling Unknown and Not Available values in certain columns."
   ]
  },
  {
   "cell_type": "code",
   "execution_count": 24,
   "id": "4d7a7b0c",
   "metadata": {},
   "outputs": [
    {
     "data": {
      "text/plain": [
       "array(['White', 'Black/African American', 'Other Race', 'Unknown'],\n",
       "      dtype=object)"
      ]
     },
     "execution_count": 24,
     "metadata": {},
     "output_type": "execute_result"
    }
   ],
   "source": [
    "df['Cultural_group'].unique()"
   ]
  },
  {
   "cell_type": "code",
   "execution_count": 25,
   "id": "a9049acc",
   "metadata": {},
   "outputs": [
    {
     "data": {
      "text/plain": [
       "White                     777034\n",
       "Black/African American    134125\n",
       "Other Race                126454\n",
       "Unknown                     3650\n",
       "Name: Cultural_group, dtype: int64"
      ]
     },
     "execution_count": 25,
     "metadata": {},
     "output_type": "execute_result"
    }
   ],
   "source": [
    "df['Cultural_group'].value_counts()"
   ]
  },
  {
   "cell_type": "code",
   "execution_count": 26,
   "id": "2a193ed1",
   "metadata": {},
   "outputs": [],
   "source": [
    "df.drop(df.index[df['Cultural_group']==\"Unknown\"],inplace= True)"
   ]
  },
  {
   "cell_type": "code",
   "execution_count": 27,
   "id": "96f1dced",
   "metadata": {},
   "outputs": [
    {
     "data": {
      "text/plain": [
       "White                     777034\n",
       "Black/African American    134125\n",
       "Other Race                126454\n",
       "Name: Cultural_group, dtype: int64"
      ]
     },
     "execution_count": 27,
     "metadata": {},
     "output_type": "execute_result"
    }
   ],
   "source": [
    "df['Cultural_group'].value_counts()"
   ]
  },
  {
   "cell_type": "code",
   "execution_count": 28,
   "id": "5cc5a2cb",
   "metadata": {},
   "outputs": [
    {
     "data": {
      "text/plain": [
       "array(['F', 'M', 'U'], dtype=object)"
      ]
     },
     "execution_count": 28,
     "metadata": {},
     "output_type": "execute_result"
    }
   ],
   "source": [
    "df['Gender'].unique()"
   ]
  },
  {
   "cell_type": "code",
   "execution_count": 29,
   "id": "ebd8f32f",
   "metadata": {},
   "outputs": [
    {
     "data": {
      "text/plain": [
       "F    586427\n",
       "M    451159\n",
       "U        27\n",
       "Name: Gender, dtype: int64"
      ]
     },
     "execution_count": 29,
     "metadata": {},
     "output_type": "execute_result"
    }
   ],
   "source": [
    "df['Gender'].value_counts()"
   ]
  },
  {
   "cell_type": "code",
   "execution_count": 30,
   "id": "9a35dfd4",
   "metadata": {},
   "outputs": [],
   "source": [
    "df.drop(df.index[df['Gender']==\"U\"],inplace= True)"
   ]
  },
  {
   "cell_type": "code",
   "execution_count": 31,
   "id": "03e3c237",
   "metadata": {},
   "outputs": [
    {
     "data": {
      "text/plain": [
       "F    586427\n",
       "M    451159\n",
       "Name: Gender, dtype: int64"
      ]
     },
     "execution_count": 31,
     "metadata": {},
     "output_type": "execute_result"
    }
   ],
   "source": [
    "df['Gender'].value_counts()"
   ]
  },
  {
   "cell_type": "code",
   "execution_count": 32,
   "id": "c21cfb69",
   "metadata": {},
   "outputs": [
    {
     "data": {
      "text/plain": [
       "array(['Elective', 'Urgent', 'Emergency', 'Newborn', 'Not Available',\n",
       "       'Trauma'], dtype=object)"
      ]
     },
     "execution_count": 32,
     "metadata": {},
     "output_type": "execute_result"
    }
   ],
   "source": [
    "df['Admission_type'].unique()"
   ]
  },
  {
   "cell_type": "code",
   "execution_count": 33,
   "id": "96a66529",
   "metadata": {},
   "outputs": [
    {
     "data": {
      "text/plain": [
       "Emergency        605434\n",
       "Elective         234334\n",
       "Urgent           109301\n",
       "Newborn           85248\n",
       "Trauma             2256\n",
       "Not Available      1013\n",
       "Name: Admission_type, dtype: int64"
      ]
     },
     "execution_count": 33,
     "metadata": {},
     "output_type": "execute_result"
    }
   ],
   "source": [
    "df['Admission_type'].value_counts()"
   ]
  },
  {
   "cell_type": "code",
   "execution_count": 34,
   "id": "bd29ad4c",
   "metadata": {},
   "outputs": [],
   "source": [
    "df.drop(df.index[df['Admission_type']==\"Not Available\"],inplace= True)"
   ]
  },
  {
   "cell_type": "code",
   "execution_count": 35,
   "id": "ae3d2863",
   "metadata": {},
   "outputs": [
    {
     "data": {
      "text/plain": [
       "Emergency    605434\n",
       "Elective     234334\n",
       "Urgent       109301\n",
       "Newborn       85248\n",
       "Trauma         2256\n",
       "Name: Admission_type, dtype: int64"
      ]
     },
     "execution_count": 35,
     "metadata": {},
     "output_type": "execute_result"
    }
   ],
   "source": [
    "df['Admission_type'].value_counts()"
   ]
  },
  {
   "cell_type": "code",
   "execution_count": 36,
   "id": "048820a0",
   "metadata": {},
   "outputs": [
    {
     "data": {
      "text/plain": [
       "array(['Not Span/Hispanic', 'Spanish/Hispanic', 'Unknown'], dtype=object)"
      ]
     },
     "execution_count": 36,
     "metadata": {},
     "output_type": "execute_result"
    }
   ],
   "source": [
    "df['ethnicity'].unique()"
   ]
  },
  {
   "cell_type": "code",
   "execution_count": 37,
   "id": "7edb0cb1",
   "metadata": {},
   "outputs": [
    {
     "data": {
      "text/plain": [
       "Not Span/Hispanic    903764\n",
       "Spanish/Hispanic      86728\n",
       "Unknown               46081\n",
       "Name: ethnicity, dtype: int64"
      ]
     },
     "execution_count": 37,
     "metadata": {},
     "output_type": "execute_result"
    }
   ],
   "source": [
    "df['ethnicity'].value_counts()"
   ]
  },
  {
   "cell_type": "code",
   "execution_count": 38,
   "id": "281091b7",
   "metadata": {},
   "outputs": [],
   "source": [
    "df.drop(df.index[df[\"ethnicity\"]==\"Unknown\"],inplace=True)"
   ]
  },
  {
   "cell_type": "code",
   "execution_count": 39,
   "id": "cd62ac91",
   "metadata": {},
   "outputs": [
    {
     "data": {
      "text/plain": [
       "Not Span/Hispanic    903764\n",
       "Spanish/Hispanic      86728\n",
       "Name: ethnicity, dtype: int64"
      ]
     },
     "execution_count": 39,
     "metadata": {},
     "output_type": "execute_result"
    }
   ],
   "source": [
    "df['ethnicity'].value_counts()"
   ]
  },
  {
   "cell_type": "code",
   "execution_count": 40,
   "id": "00b4b700",
   "metadata": {},
   "outputs": [
    {
     "name": "stdout",
     "output_type": "stream",
     "text": [
      "<class 'pandas.core.frame.DataFrame'>\n",
      "Int64Index: 990492 entries, 0 to 1048574\n",
      "Data columns (total 23 columns):\n",
      " #   Column                                 Non-Null Count   Dtype  \n",
      "---  ------                                 --------------   -----  \n",
      " 0   Area_Service                           990492 non-null  object \n",
      " 1   Hospital County                        990492 non-null  object \n",
      " 2   Age                                    990492 non-null  object \n",
      " 3   Gender                                 990492 non-null  object \n",
      " 4   Cultural_group                         990492 non-null  object \n",
      " 5   ethnicity                              990492 non-null  object \n",
      " 6   Days_spend_hsptl                       990492 non-null  object \n",
      " 7   Admission_type                         990492 non-null  object \n",
      " 8   Home or self care,                     990492 non-null  object \n",
      " 9   ccs_diagnosis_code                     990492 non-null  int64  \n",
      " 10  ccs_procedure_code                     990492 non-null  int64  \n",
      " 11  apr_drg_description                    990492 non-null  object \n",
      " 12  Code_illness                           990492 non-null  int64  \n",
      " 13  Mortality risk                         990492 non-null  float64\n",
      " 14  Surg_Description                       990492 non-null  object \n",
      " 15  Weight_baby                            990492 non-null  int64  \n",
      " 16  Abortion                               990492 non-null  object \n",
      " 17  Emergency dept_yes/No                  990492 non-null  object \n",
      " 18  Tot_charg                              990492 non-null  float64\n",
      " 19  Tot_cost                               990492 non-null  float64\n",
      " 20  ratio_of_total_costs_to_total_charges  990492 non-null  float64\n",
      " 21  Result                                 990492 non-null  int64  \n",
      " 22  Payment_Typology                       990492 non-null  int64  \n",
      "dtypes: float64(4), int64(6), object(13)\n",
      "memory usage: 181.4+ MB\n"
     ]
    }
   ],
   "source": [
    "df.info()"
   ]
  },
  {
   "cell_type": "code",
   "execution_count": 41,
   "id": "00c1d6f4",
   "metadata": {},
   "outputs": [
    {
     "data": {
      "text/plain": [
       "(990492, 23)"
      ]
     },
     "execution_count": 41,
     "metadata": {},
     "output_type": "execute_result"
    }
   ],
   "source": [
    "df.shape"
   ]
  },
  {
   "cell_type": "markdown",
   "id": "d70489e7",
   "metadata": {},
   "source": [
    "## DATA VISUALISATION"
   ]
  },
  {
   "cell_type": "markdown",
   "id": "d71ace44",
   "metadata": {},
   "source": [
    "# 1.Relation Between Age and Code_illness "
   ]
  },
  {
   "cell_type": "code",
   "execution_count": 42,
   "id": "596d7499",
   "metadata": {},
   "outputs": [],
   "source": [
    "import seaborn as sns"
   ]
  },
  {
   "cell_type": "code",
   "execution_count": 43,
   "id": "c8a52b0b",
   "metadata": {},
   "outputs": [],
   "source": [
    "plt.rcParams['figure.figsize'] = (10,5)\n",
    "plt.rcParams['figure.dpi'] = (150)"
   ]
  },
  {
   "cell_type": "code",
   "execution_count": 44,
   "id": "6b7b3ba6",
   "metadata": {},
   "outputs": [],
   "source": [
    "#sns.pairplot(df)"
   ]
  },
  {
   "cell_type": "code",
   "execution_count": 45,
   "id": "e49a5bf4",
   "metadata": {},
   "outputs": [
    {
     "data": {
      "text/plain": [
       "<matplotlib.axes._subplots.AxesSubplot at 0x1ce84f8fbb0>"
      ]
     },
     "execution_count": 45,
     "metadata": {},
     "output_type": "execute_result"
    },
    {
     "data": {
      "image/png": "[encoded data removed]",
      "text/plain": [
       "<Figure size 1500x750 with 1 Axes>"
      ]
     },
     "metadata": {
      "needs_background": "light"
     },
     "output_type": "display_data"
    }
   ],
   "source": [
    "sns.countplot('Age',hue='Code_illness',data=df)"
   ]
  },
  {
   "cell_type": "markdown",
   "id": "e7fbec0c",
   "metadata": {},
   "source": [
    "# 2. Relation between Mortality risk and Age"
   ]
  },
  {
   "cell_type": "code",
   "execution_count": 46,
   "id": "1fcc5520",
   "metadata": {},
   "outputs": [
    {
     "data": {
      "text/plain": [
       "<matplotlib.axes._subplots.AxesSubplot at 0x1ce8a80eb80>"
      ]
     },
     "execution_count": 46,
     "metadata": {},
     "output_type": "execute_result"
    },
    {
     "data": {
      "image/png": "[encoded data removed]",
      "text/plain": [
       "<Figure size 1500x750 with 1 Axes>"
      ]
     },
     "metadata": {
      "needs_background": "light"
     },
     "output_type": "display_data"
    }
   ],
   "source": [
    "sns.countplot('Mortality risk', hue='Age', data=df)"
   ]
  },
  {
   "cell_type": "markdown",
   "id": "0700773b",
   "metadata": {},
   "source": [
    "# 3.Relation between Tot_charg and Tot_cost"
   ]
  },
  {
   "cell_type": "code",
   "execution_count": 47,
   "id": "fb6a0bc4",
   "metadata": {},
   "outputs": [
    {
     "data": {
      "text/plain": [
       "<matplotlib.axes._subplots.AxesSubplot at 0x1ce84f8ffd0>"
      ]
     },
     "execution_count": 47,
     "metadata": {},
     "output_type": "execute_result"
    },
    {
     "data": {
      "image/png": "[encoded data removed]",
      "text/plain": [
       "<Figure size 1500x750 with 1 Axes>"
      ]
     },
     "metadata": {
      "needs_background": "light"
     },
     "output_type": "display_data"
    }
   ],
   "source": [
    "sns.scatterplot(df['Tot_charg'], df['Tot_cost'])"
   ]
  },
  {
   "cell_type": "markdown",
   "id": "9415fba1",
   "metadata": {},
   "source": [
    "# 4.Relation between Emergency dept_yes/No and Mortality risk"
   ]
  },
  {
   "cell_type": "code",
   "execution_count": 48,
   "id": "d09bd611",
   "metadata": {},
   "outputs": [
    {
     "data": {
      "text/plain": [
       "<matplotlib.axes._subplots.AxesSubplot at 0x1ce89a51220>"
      ]
     },
     "execution_count": 48,
     "metadata": {},
     "output_type": "execute_result"
    },
    {
     "data": {
      "image/png": "[encoded data removed]",
      "text/plain": [
       "<Figure size 1500x750 with 1 Axes>"
      ]
     },
     "metadata": {
      "needs_background": "light"
     },
     "output_type": "display_data"
    }
   ],
   "source": [
    "sns.countplot('Emergency dept_yes/No', hue='Mortality risk', data=df)"
   ]
  },
  {
   "cell_type": "markdown",
   "id": "6879049f",
   "metadata": {},
   "source": [
    "# 5.Relation between Result and payment _Typology"
   ]
  },
  {
   "cell_type": "code",
   "execution_count": 49,
   "id": "b72aaa73",
   "metadata": {},
   "outputs": [
    {
     "data": {
      "text/plain": [
       "<matplotlib.axes._subplots.AxesSubplot at 0x1ce8a0beac0>"
      ]
     },
     "execution_count": 49,
     "metadata": {},
     "output_type": "execute_result"
    },
    {
     "data": {
      "image/png": "[encoded data removed]",
      "text/plain": [
       "<Figure size 1500x750 with 1 Axes>"
      ]
     },
     "metadata": {
      "needs_background": "light"
     },
     "output_type": "display_data"
    }
   ],
   "source": [
    "sns.countplot('Result', hue='Payment_Typology', data=df)"
   ]
  },
  {
   "cell_type": "markdown",
   "id": "675635c4",
   "metadata": {},
   "source": [
    "# Finding out correlation between all the columns using Heatmap"
   ]
  },
  {
   "cell_type": "code",
   "execution_count": 50,
   "id": "2e0ca789",
   "metadata": {},
   "outputs": [],
   "source": [
    "corr = df.corr()"
   ]
  },
  {
   "cell_type": "code",
   "execution_count": 51,
   "id": "71f848af",
   "metadata": {},
   "outputs": [
    {
     "data": {
      "text/plain": [
       "<matplotlib.axes._subplots.AxesSubplot at 0x1ce8a5432e0>"
      ]
     },
     "execution_count": 51,
     "metadata": {},
     "output_type": "execute_result"
    },
    {
     "data": {
      "image/png": "[encoded data removed]",
      "text/plain": [
       "<Figure size 1500x750 with 2 Axes>"
      ]
     },
     "metadata": {
      "needs_background": "light"
     },
     "output_type": "display_data"
    }
   ],
   "source": [
    "sns.heatmap(corr, annot=True,cmap=\"YlGnBu\")"
   ]
  },
  {
   "cell_type": "code",
   "execution_count": 52,
   "id": "8ed5f8c8",
   "metadata": {},
   "outputs": [
    {
     "data": {
      "text/plain": [
       "array(['30 to 49', '70 or Older', '0 to 17', '18 to 29', '50 to 69'],\n",
       "      dtype=object)"
      ]
     },
     "execution_count": 52,
     "metadata": {},
     "output_type": "execute_result"
    }
   ],
   "source": [
    "df['Age'].unique()"
   ]
  },
  {
   "cell_type": "code",
   "execution_count": 53,
   "id": "37d3e75e",
   "metadata": {},
   "outputs": [
    {
     "data": {
      "text/html": [
       "<div>\n",
       "<style scoped>\n",
       "    .dataframe tbody tr th:only-of-type {\n",
       "        vertical-align: middle;\n",
       "    }\n",
       "\n",
       "    .dataframe tbody tr th {\n",
       "        vertical-align: top;\n",
       "    }\n",
       "\n",
       "    .dataframe thead th {\n",
       "        text-align: right;\n",
       "    }\n",
       "</style>\n",
       "<table border=\"1\" class=\"dataframe\">\n",
       "  <thead>\n",
       "    <tr style=\"text-align: right;\">\n",
       "      <th></th>\n",
       "      <th>Area_Service</th>\n",
       "      <th>Hospital County</th>\n",
       "      <th>Age</th>\n",
       "      <th>Gender</th>\n",
       "      <th>Cultural_group</th>\n",
       "      <th>ethnicity</th>\n",
       "      <th>Days_spend_hsptl</th>\n",
       "      <th>Admission_type</th>\n",
       "      <th>Home or self care,</th>\n",
       "      <th>ccs_diagnosis_code</th>\n",
       "      <th>...</th>\n",
       "      <th>Mortality risk</th>\n",
       "      <th>Surg_Description</th>\n",
       "      <th>Weight_baby</th>\n",
       "      <th>Abortion</th>\n",
       "      <th>Emergency dept_yes/No</th>\n",
       "      <th>Tot_charg</th>\n",
       "      <th>Tot_cost</th>\n",
       "      <th>ratio_of_total_costs_to_total_charges</th>\n",
       "      <th>Result</th>\n",
       "      <th>Payment_Typology</th>\n",
       "    </tr>\n",
       "  </thead>\n",
       "  <tbody>\n",
       "    <tr>\n",
       "      <th>0</th>\n",
       "      <td>Western NY</td>\n",
       "      <td>Allegany</td>\n",
       "      <td>3</td>\n",
       "      <td>F</td>\n",
       "      <td>White</td>\n",
       "      <td>Not Span/Hispanic</td>\n",
       "      <td>4</td>\n",
       "      <td>Elective</td>\n",
       "      <td>Home or Self Care</td>\n",
       "      <td>122</td>\n",
       "      <td>...</td>\n",
       "      <td>1.0</td>\n",
       "      <td>Medical</td>\n",
       "      <td>0</td>\n",
       "      <td>N</td>\n",
       "      <td>Y</td>\n",
       "      <td>5511.95</td>\n",
       "      <td>5582.49</td>\n",
       "      <td>1.012798</td>\n",
       "      <td>1</td>\n",
       "      <td>1</td>\n",
       "    </tr>\n",
       "    <tr>\n",
       "      <th>1</th>\n",
       "      <td>Western NY</td>\n",
       "      <td>Allegany</td>\n",
       "      <td>5</td>\n",
       "      <td>F</td>\n",
       "      <td>White</td>\n",
       "      <td>Not Span/Hispanic</td>\n",
       "      <td>4</td>\n",
       "      <td>Urgent</td>\n",
       "      <td>Short-term Hospital</td>\n",
       "      <td>197</td>\n",
       "      <td>...</td>\n",
       "      <td>2.0</td>\n",
       "      <td>Medical</td>\n",
       "      <td>0</td>\n",
       "      <td>N</td>\n",
       "      <td>Y</td>\n",
       "      <td>4783.20</td>\n",
       "      <td>5162.82</td>\n",
       "      <td>1.079365</td>\n",
       "      <td>1</td>\n",
       "      <td>1</td>\n",
       "    </tr>\n",
       "    <tr>\n",
       "      <th>2</th>\n",
       "      <td>Western NY</td>\n",
       "      <td>Allegany</td>\n",
       "      <td>3</td>\n",
       "      <td>F</td>\n",
       "      <td>White</td>\n",
       "      <td>Not Span/Hispanic</td>\n",
       "      <td>3</td>\n",
       "      <td>Urgent</td>\n",
       "      <td>Home or Self Care</td>\n",
       "      <td>122</td>\n",
       "      <td>...</td>\n",
       "      <td>1.0</td>\n",
       "      <td>Medical</td>\n",
       "      <td>0</td>\n",
       "      <td>N</td>\n",
       "      <td>Y</td>\n",
       "      <td>3829.15</td>\n",
       "      <td>4056.52</td>\n",
       "      <td>1.059379</td>\n",
       "      <td>1</td>\n",
       "      <td>1</td>\n",
       "    </tr>\n",
       "    <tr>\n",
       "      <th>3</th>\n",
       "      <td>Western NY</td>\n",
       "      <td>Allegany</td>\n",
       "      <td>1</td>\n",
       "      <td>F</td>\n",
       "      <td>White</td>\n",
       "      <td>Not Span/Hispanic</td>\n",
       "      <td>1</td>\n",
       "      <td>Urgent</td>\n",
       "      <td>Home or Self Care</td>\n",
       "      <td>122</td>\n",
       "      <td>...</td>\n",
       "      <td>1.0</td>\n",
       "      <td>Medical</td>\n",
       "      <td>0</td>\n",
       "      <td>N</td>\n",
       "      <td>Y</td>\n",
       "      <td>1108.20</td>\n",
       "      <td>1644.75</td>\n",
       "      <td>1.484167</td>\n",
       "      <td>0</td>\n",
       "      <td>1</td>\n",
       "    </tr>\n",
       "    <tr>\n",
       "      <th>4</th>\n",
       "      <td>Western NY</td>\n",
       "      <td>Allegany</td>\n",
       "      <td>5</td>\n",
       "      <td>F</td>\n",
       "      <td>White</td>\n",
       "      <td>Not Span/Hispanic</td>\n",
       "      <td>3</td>\n",
       "      <td>Elective</td>\n",
       "      <td>Home or Self Care</td>\n",
       "      <td>122</td>\n",
       "      <td>...</td>\n",
       "      <td>3.0</td>\n",
       "      <td>Medical</td>\n",
       "      <td>0</td>\n",
       "      <td>N</td>\n",
       "      <td>Y</td>\n",
       "      <td>3418.18</td>\n",
       "      <td>3370.87</td>\n",
       "      <td>0.986161</td>\n",
       "      <td>1</td>\n",
       "      <td>1</td>\n",
       "    </tr>\n",
       "  </tbody>\n",
       "</table>\n",
       "<p>5 rows × 23 columns</p>\n",
       "</div>"
      ],
      "text/plain": [
       "  Area_Service Hospital County  Age Gender Cultural_group          ethnicity  \\\n",
       "0   Western NY        Allegany    3      F          White  Not Span/Hispanic   \n",
       "1   Western NY        Allegany    5      F          White  Not Span/Hispanic   \n",
       "2   Western NY        Allegany    3      F          White  Not Span/Hispanic   \n",
       "3   Western NY        Allegany    1      F          White  Not Span/Hispanic   \n",
       "4   Western NY        Allegany    5      F          White  Not Span/Hispanic   \n",
       "\n",
       "  Days_spend_hsptl Admission_type   Home or self care,  ccs_diagnosis_code  \\\n",
       "0                4       Elective    Home or Self Care                 122   \n",
       "1                4         Urgent  Short-term Hospital                 197   \n",
       "2                3         Urgent    Home or Self Care                 122   \n",
       "3                1         Urgent    Home or Self Care                 122   \n",
       "4                3       Elective    Home or Self Care                 122   \n",
       "\n",
       "   ...  Mortality risk Surg_Description  Weight_baby  Abortion  \\\n",
       "0  ...             1.0          Medical            0         N   \n",
       "1  ...             2.0          Medical            0         N   \n",
       "2  ...             1.0          Medical            0         N   \n",
       "3  ...             1.0          Medical            0         N   \n",
       "4  ...             3.0          Medical            0         N   \n",
       "\n",
       "  Emergency dept_yes/No  Tot_charg Tot_cost  \\\n",
       "0                     Y    5511.95  5582.49   \n",
       "1                     Y    4783.20  5162.82   \n",
       "2                     Y    3829.15  4056.52   \n",
       "3                     Y    1108.20  1644.75   \n",
       "4                     Y    3418.18  3370.87   \n",
       "\n",
       "  ratio_of_total_costs_to_total_charges  Result  Payment_Typology  \n",
       "0                              1.012798       1                 1  \n",
       "1                              1.079365       1                 1  \n",
       "2                              1.059379       1                 1  \n",
       "3                              1.484167       0                 1  \n",
       "4                              0.986161       1                 1  \n",
       "\n",
       "[5 rows x 23 columns]"
      ]
     },
     "execution_count": 53,
     "metadata": {},
     "output_type": "execute_result"
    }
   ],
   "source": [
    "df['Age'] = df['Age'].map({'0 to 17': 1,'18 to 29': 2,'30 to 49': 3,'50 to 69': 4,'70 or Older': 5})\n",
    "df.head()"
   ]
  },
  {
   "cell_type": "code",
   "execution_count": 54,
   "id": "cb94a4f4",
   "metadata": {},
   "outputs": [],
   "source": [
    "df['Admission_type'] = df['Admission_type'].map({'Emergency': 1,'Urgent': 2,'Elective': 3,'Newborn': 4,'Trauma': 5})"
   ]
  },
  {
   "cell_type": "code",
   "execution_count": 55,
   "id": "e416acb9",
   "metadata": {},
   "outputs": [],
   "source": [
    "df['Emergency dept_yes/No'] = df['Emergency dept_yes/No'].map({'Y':1,'N':0})"
   ]
  },
  {
   "cell_type": "code",
   "execution_count": 56,
   "id": "b915d205",
   "metadata": {},
   "outputs": [
    {
     "data": {
      "text/html": [
       "<div>\n",
       "<style scoped>\n",
       "    .dataframe tbody tr th:only-of-type {\n",
       "        vertical-align: middle;\n",
       "    }\n",
       "\n",
       "    .dataframe tbody tr th {\n",
       "        vertical-align: top;\n",
       "    }\n",
       "\n",
       "    .dataframe thead th {\n",
       "        text-align: right;\n",
       "    }\n",
       "</style>\n",
       "<table border=\"1\" class=\"dataframe\">\n",
       "  <thead>\n",
       "    <tr style=\"text-align: right;\">\n",
       "      <th></th>\n",
       "      <th>Area_Service</th>\n",
       "      <th>Hospital County</th>\n",
       "      <th>Age</th>\n",
       "      <th>Gender</th>\n",
       "      <th>Cultural_group</th>\n",
       "      <th>ethnicity</th>\n",
       "      <th>Days_spend_hsptl</th>\n",
       "      <th>Admission_type</th>\n",
       "      <th>Home or self care,</th>\n",
       "      <th>ccs_diagnosis_code</th>\n",
       "      <th>...</th>\n",
       "      <th>Mortality risk</th>\n",
       "      <th>Surg_Description</th>\n",
       "      <th>Weight_baby</th>\n",
       "      <th>Abortion</th>\n",
       "      <th>Emergency dept_yes/No</th>\n",
       "      <th>Tot_charg</th>\n",
       "      <th>Tot_cost</th>\n",
       "      <th>ratio_of_total_costs_to_total_charges</th>\n",
       "      <th>Result</th>\n",
       "      <th>Payment_Typology</th>\n",
       "    </tr>\n",
       "  </thead>\n",
       "  <tbody>\n",
       "    <tr>\n",
       "      <th>0</th>\n",
       "      <td>Western NY</td>\n",
       "      <td>Allegany</td>\n",
       "      <td>3</td>\n",
       "      <td>F</td>\n",
       "      <td>White</td>\n",
       "      <td>Not Span/Hispanic</td>\n",
       "      <td>4</td>\n",
       "      <td>3</td>\n",
       "      <td>Home or Self Care</td>\n",
       "      <td>122</td>\n",
       "      <td>...</td>\n",
       "      <td>1.0</td>\n",
       "      <td>Medical</td>\n",
       "      <td>0</td>\n",
       "      <td>N</td>\n",
       "      <td>1</td>\n",
       "      <td>5511.95</td>\n",
       "      <td>5582.49</td>\n",
       "      <td>1.012798</td>\n",
       "      <td>1</td>\n",
       "      <td>1</td>\n",
       "    </tr>\n",
       "    <tr>\n",
       "      <th>1</th>\n",
       "      <td>Western NY</td>\n",
       "      <td>Allegany</td>\n",
       "      <td>5</td>\n",
       "      <td>F</td>\n",
       "      <td>White</td>\n",
       "      <td>Not Span/Hispanic</td>\n",
       "      <td>4</td>\n",
       "      <td>2</td>\n",
       "      <td>Short-term Hospital</td>\n",
       "      <td>197</td>\n",
       "      <td>...</td>\n",
       "      <td>2.0</td>\n",
       "      <td>Medical</td>\n",
       "      <td>0</td>\n",
       "      <td>N</td>\n",
       "      <td>1</td>\n",
       "      <td>4783.20</td>\n",
       "      <td>5162.82</td>\n",
       "      <td>1.079365</td>\n",
       "      <td>1</td>\n",
       "      <td>1</td>\n",
       "    </tr>\n",
       "    <tr>\n",
       "      <th>2</th>\n",
       "      <td>Western NY</td>\n",
       "      <td>Allegany</td>\n",
       "      <td>3</td>\n",
       "      <td>F</td>\n",
       "      <td>White</td>\n",
       "      <td>Not Span/Hispanic</td>\n",
       "      <td>3</td>\n",
       "      <td>2</td>\n",
       "      <td>Home or Self Care</td>\n",
       "      <td>122</td>\n",
       "      <td>...</td>\n",
       "      <td>1.0</td>\n",
       "      <td>Medical</td>\n",
       "      <td>0</td>\n",
       "      <td>N</td>\n",
       "      <td>1</td>\n",
       "      <td>3829.15</td>\n",
       "      <td>4056.52</td>\n",
       "      <td>1.059379</td>\n",
       "      <td>1</td>\n",
       "      <td>1</td>\n",
       "    </tr>\n",
       "    <tr>\n",
       "      <th>3</th>\n",
       "      <td>Western NY</td>\n",
       "      <td>Allegany</td>\n",
       "      <td>1</td>\n",
       "      <td>F</td>\n",
       "      <td>White</td>\n",
       "      <td>Not Span/Hispanic</td>\n",
       "      <td>1</td>\n",
       "      <td>2</td>\n",
       "      <td>Home or Self Care</td>\n",
       "      <td>122</td>\n",
       "      <td>...</td>\n",
       "      <td>1.0</td>\n",
       "      <td>Medical</td>\n",
       "      <td>0</td>\n",
       "      <td>N</td>\n",
       "      <td>1</td>\n",
       "      <td>1108.20</td>\n",
       "      <td>1644.75</td>\n",
       "      <td>1.484167</td>\n",
       "      <td>0</td>\n",
       "      <td>1</td>\n",
       "    </tr>\n",
       "    <tr>\n",
       "      <th>4</th>\n",
       "      <td>Western NY</td>\n",
       "      <td>Allegany</td>\n",
       "      <td>5</td>\n",
       "      <td>F</td>\n",
       "      <td>White</td>\n",
       "      <td>Not Span/Hispanic</td>\n",
       "      <td>3</td>\n",
       "      <td>3</td>\n",
       "      <td>Home or Self Care</td>\n",
       "      <td>122</td>\n",
       "      <td>...</td>\n",
       "      <td>3.0</td>\n",
       "      <td>Medical</td>\n",
       "      <td>0</td>\n",
       "      <td>N</td>\n",
       "      <td>1</td>\n",
       "      <td>3418.18</td>\n",
       "      <td>3370.87</td>\n",
       "      <td>0.986161</td>\n",
       "      <td>1</td>\n",
       "      <td>1</td>\n",
       "    </tr>\n",
       "  </tbody>\n",
       "</table>\n",
       "<p>5 rows × 23 columns</p>\n",
       "</div>"
      ],
      "text/plain": [
       "  Area_Service Hospital County  Age Gender Cultural_group          ethnicity  \\\n",
       "0   Western NY        Allegany    3      F          White  Not Span/Hispanic   \n",
       "1   Western NY        Allegany    5      F          White  Not Span/Hispanic   \n",
       "2   Western NY        Allegany    3      F          White  Not Span/Hispanic   \n",
       "3   Western NY        Allegany    1      F          White  Not Span/Hispanic   \n",
       "4   Western NY        Allegany    5      F          White  Not Span/Hispanic   \n",
       "\n",
       "  Days_spend_hsptl  Admission_type   Home or self care,  ccs_diagnosis_code  \\\n",
       "0                4               3    Home or Self Care                 122   \n",
       "1                4               2  Short-term Hospital                 197   \n",
       "2                3               2    Home or Self Care                 122   \n",
       "3                1               2    Home or Self Care                 122   \n",
       "4                3               3    Home or Self Care                 122   \n",
       "\n",
       "   ...  Mortality risk Surg_Description  Weight_baby  Abortion  \\\n",
       "0  ...             1.0          Medical            0         N   \n",
       "1  ...             2.0          Medical            0         N   \n",
       "2  ...             1.0          Medical            0         N   \n",
       "3  ...             1.0          Medical            0         N   \n",
       "4  ...             3.0          Medical            0         N   \n",
       "\n",
       "  Emergency dept_yes/No  Tot_charg Tot_cost  \\\n",
       "0                     1    5511.95  5582.49   \n",
       "1                     1    4783.20  5162.82   \n",
       "2                     1    3829.15  4056.52   \n",
       "3                     1    1108.20  1644.75   \n",
       "4                     1    3418.18  3370.87   \n",
       "\n",
       "   ratio_of_total_costs_to_total_charges  Result  Payment_Typology  \n",
       "0                               1.012798       1                 1  \n",
       "1                               1.079365       1                 1  \n",
       "2                               1.059379       1                 1  \n",
       "3                               1.484167       0                 1  \n",
       "4                               0.986161       1                 1  \n",
       "\n",
       "[5 rows x 23 columns]"
      ]
     },
     "execution_count": 56,
     "metadata": {},
     "output_type": "execute_result"
    }
   ],
   "source": [
    "df.head()"
   ]
  },
  {
   "cell_type": "code",
   "execution_count": 57,
   "id": "97998244",
   "metadata": {},
   "outputs": [
    {
     "data": {
      "text/plain": [
       "array(['4', '3', '1', '2', '5', '6', '14', '12', '9', '8', '10', '7',\n",
       "       '22', '11', '16', '15', '25', '13', '17', '28', '18', '19', '23',\n",
       "       '38', '20', '24', '26', '21', '27', '30', '29', '39', '87', '35',\n",
       "       '37', '32', '55', '56', '49', '110', '69', '75', '42', '51', '47',\n",
       "       '45', '46', '40', '34', '79', '43', '120 +', '65', '41', '31',\n",
       "       '50', '59', '44', '36', '70', '115', '58', '94', '33', '68', '67',\n",
       "       '54', '80', '85', '95', '78', '91', '88', '48', '52', '63', '57',\n",
       "       '74', '64', '53', '62', '97', '72', '118', '81', '90', '86', '106',\n",
       "       '112', '105', '114', '66', '89', '83', '84', '82', '93', '116',\n",
       "       '71', '60', '73', '61', '92', '76', '96', '77', '104', '100',\n",
       "       '103', '102', '117', '108', '99', '107', '98', '101', '119', '111',\n",
       "       '109', '113'], dtype=object)"
      ]
     },
     "execution_count": 57,
     "metadata": {},
     "output_type": "execute_result"
    }
   ],
   "source": [
    "df['Days_spend_hsptl'].unique()"
   ]
  },
  {
   "cell_type": "code",
   "execution_count": 58,
   "id": "36f79597",
   "metadata": {},
   "outputs": [],
   "source": [
    "df['Days_spend_hsptl'] = df['Days_spend_hsptl'].replace('120 +','120')"
   ]
  },
  {
   "cell_type": "code",
   "execution_count": 59,
   "id": "4401e6cf",
   "metadata": {},
   "outputs": [],
   "source": [
    "df['Days_spend_hsptl'] = df['Days_spend_hsptl'].astype(int)"
   ]
  },
  {
   "cell_type": "code",
   "execution_count": 60,
   "id": "4c0e13d0",
   "metadata": {},
   "outputs": [],
   "source": [
    "cat_cols = list(df.select_dtypes(include=['O']).columns)"
   ]
  },
  {
   "cell_type": "code",
   "execution_count": 61,
   "id": "4304be68",
   "metadata": {},
   "outputs": [
    {
     "name": "stdout",
     "output_type": "stream",
     "text": [
      "['Area_Service', 'Hospital County', 'Gender', 'Cultural_group', 'ethnicity', 'Home or self care,', 'apr_drg_description', 'Surg_Description', 'Abortion']\n",
      "Number of object categories:  9\n"
     ]
    }
   ],
   "source": [
    "print(cat_cols)\n",
    "print('Number of object categories: ',len(cat_cols))"
   ]
  },
  {
   "cell_type": "markdown",
   "id": "0197499e",
   "metadata": {},
   "source": [
    "# Converting Categorical columns in numeric values using Label encoder"
   ]
  },
  {
   "cell_type": "code",
   "execution_count": 62,
   "id": "797ef214",
   "metadata": {},
   "outputs": [],
   "source": [
    "from sklearn.preprocessing import LabelEncoder"
   ]
  },
  {
   "cell_type": "code",
   "execution_count": 63,
   "id": "dc62e27a",
   "metadata": {},
   "outputs": [],
   "source": [
    "le = LabelEncoder()"
   ]
  },
  {
   "cell_type": "code",
   "execution_count": 64,
   "id": "aa595187",
   "metadata": {},
   "outputs": [
    {
     "data": {
      "text/html": [
       "<div>\n",
       "<style scoped>\n",
       "    .dataframe tbody tr th:only-of-type {\n",
       "        vertical-align: middle;\n",
       "    }\n",
       "\n",
       "    .dataframe tbody tr th {\n",
       "        vertical-align: top;\n",
       "    }\n",
       "\n",
       "    .dataframe thead th {\n",
       "        text-align: right;\n",
       "    }\n",
       "</style>\n",
       "<table border=\"1\" class=\"dataframe\">\n",
       "  <thead>\n",
       "    <tr style=\"text-align: right;\">\n",
       "      <th></th>\n",
       "      <th>Area_Service</th>\n",
       "      <th>Hospital County</th>\n",
       "      <th>Age</th>\n",
       "      <th>Gender</th>\n",
       "      <th>Cultural_group</th>\n",
       "      <th>ethnicity</th>\n",
       "      <th>Days_spend_hsptl</th>\n",
       "      <th>Admission_type</th>\n",
       "      <th>Home or self care,</th>\n",
       "      <th>ccs_diagnosis_code</th>\n",
       "      <th>...</th>\n",
       "      <th>Mortality risk</th>\n",
       "      <th>Surg_Description</th>\n",
       "      <th>Weight_baby</th>\n",
       "      <th>Abortion</th>\n",
       "      <th>Emergency dept_yes/No</th>\n",
       "      <th>Tot_charg</th>\n",
       "      <th>Tot_cost</th>\n",
       "      <th>ratio_of_total_costs_to_total_charges</th>\n",
       "      <th>Result</th>\n",
       "      <th>Payment_Typology</th>\n",
       "    </tr>\n",
       "  </thead>\n",
       "  <tbody>\n",
       "    <tr>\n",
       "      <th>0</th>\n",
       "      <td>6</td>\n",
       "      <td>1</td>\n",
       "      <td>3</td>\n",
       "      <td>0</td>\n",
       "      <td>2</td>\n",
       "      <td>0</td>\n",
       "      <td>4</td>\n",
       "      <td>3</td>\n",
       "      <td>7</td>\n",
       "      <td>122</td>\n",
       "      <td>...</td>\n",
       "      <td>1.0</td>\n",
       "      <td>0</td>\n",
       "      <td>0</td>\n",
       "      <td>0</td>\n",
       "      <td>1</td>\n",
       "      <td>5511.95</td>\n",
       "      <td>5582.49</td>\n",
       "      <td>1.012798</td>\n",
       "      <td>1</td>\n",
       "      <td>1</td>\n",
       "    </tr>\n",
       "    <tr>\n",
       "      <th>1</th>\n",
       "      <td>6</td>\n",
       "      <td>1</td>\n",
       "      <td>5</td>\n",
       "      <td>0</td>\n",
       "      <td>2</td>\n",
       "      <td>0</td>\n",
       "      <td>4</td>\n",
       "      <td>2</td>\n",
       "      <td>17</td>\n",
       "      <td>197</td>\n",
       "      <td>...</td>\n",
       "      <td>2.0</td>\n",
       "      <td>0</td>\n",
       "      <td>0</td>\n",
       "      <td>0</td>\n",
       "      <td>1</td>\n",
       "      <td>4783.20</td>\n",
       "      <td>5162.82</td>\n",
       "      <td>1.079365</td>\n",
       "      <td>1</td>\n",
       "      <td>1</td>\n",
       "    </tr>\n",
       "    <tr>\n",
       "      <th>2</th>\n",
       "      <td>6</td>\n",
       "      <td>1</td>\n",
       "      <td>3</td>\n",
       "      <td>0</td>\n",
       "      <td>2</td>\n",
       "      <td>0</td>\n",
       "      <td>3</td>\n",
       "      <td>2</td>\n",
       "      <td>7</td>\n",
       "      <td>122</td>\n",
       "      <td>...</td>\n",
       "      <td>1.0</td>\n",
       "      <td>0</td>\n",
       "      <td>0</td>\n",
       "      <td>0</td>\n",
       "      <td>1</td>\n",
       "      <td>3829.15</td>\n",
       "      <td>4056.52</td>\n",
       "      <td>1.059379</td>\n",
       "      <td>1</td>\n",
       "      <td>1</td>\n",
       "    </tr>\n",
       "    <tr>\n",
       "      <th>3</th>\n",
       "      <td>6</td>\n",
       "      <td>1</td>\n",
       "      <td>1</td>\n",
       "      <td>0</td>\n",
       "      <td>2</td>\n",
       "      <td>0</td>\n",
       "      <td>1</td>\n",
       "      <td>2</td>\n",
       "      <td>7</td>\n",
       "      <td>122</td>\n",
       "      <td>...</td>\n",
       "      <td>1.0</td>\n",
       "      <td>0</td>\n",
       "      <td>0</td>\n",
       "      <td>0</td>\n",
       "      <td>1</td>\n",
       "      <td>1108.20</td>\n",
       "      <td>1644.75</td>\n",
       "      <td>1.484167</td>\n",
       "      <td>0</td>\n",
       "      <td>1</td>\n",
       "    </tr>\n",
       "    <tr>\n",
       "      <th>4</th>\n",
       "      <td>6</td>\n",
       "      <td>1</td>\n",
       "      <td>5</td>\n",
       "      <td>0</td>\n",
       "      <td>2</td>\n",
       "      <td>0</td>\n",
       "      <td>3</td>\n",
       "      <td>3</td>\n",
       "      <td>7</td>\n",
       "      <td>122</td>\n",
       "      <td>...</td>\n",
       "      <td>3.0</td>\n",
       "      <td>0</td>\n",
       "      <td>0</td>\n",
       "      <td>0</td>\n",
       "      <td>1</td>\n",
       "      <td>3418.18</td>\n",
       "      <td>3370.87</td>\n",
       "      <td>0.986161</td>\n",
       "      <td>1</td>\n",
       "      <td>1</td>\n",
       "    </tr>\n",
       "  </tbody>\n",
       "</table>\n",
       "<p>5 rows × 23 columns</p>\n",
       "</div>"
      ],
      "text/plain": [
       "   Area_Service  Hospital County  Age  Gender  Cultural_group  ethnicity  \\\n",
       "0             6                1    3       0               2          0   \n",
       "1             6                1    5       0               2          0   \n",
       "2             6                1    3       0               2          0   \n",
       "3             6                1    1       0               2          0   \n",
       "4             6                1    5       0               2          0   \n",
       "\n",
       "   Days_spend_hsptl  Admission_type  Home or self care,  ccs_diagnosis_code  \\\n",
       "0                 4               3                   7                 122   \n",
       "1                 4               2                  17                 197   \n",
       "2                 3               2                   7                 122   \n",
       "3                 1               2                   7                 122   \n",
       "4                 3               3                   7                 122   \n",
       "\n",
       "   ...  Mortality risk  Surg_Description  Weight_baby  Abortion  \\\n",
       "0  ...             1.0                 0            0         0   \n",
       "1  ...             2.0                 0            0         0   \n",
       "2  ...             1.0                 0            0         0   \n",
       "3  ...             1.0                 0            0         0   \n",
       "4  ...             3.0                 0            0         0   \n",
       "\n",
       "   Emergency dept_yes/No  Tot_charg  Tot_cost  \\\n",
       "0                      1    5511.95   5582.49   \n",
       "1                      1    4783.20   5162.82   \n",
       "2                      1    3829.15   4056.52   \n",
       "3                      1    1108.20   1644.75   \n",
       "4                      1    3418.18   3370.87   \n",
       "\n",
       "   ratio_of_total_costs_to_total_charges  Result  Payment_Typology  \n",
       "0                               1.012798       1                 1  \n",
       "1                               1.079365       1                 1  \n",
       "2                               1.059379       1                 1  \n",
       "3                               1.484167       0                 1  \n",
       "4                               0.986161       1                 1  \n",
       "\n",
       "[5 rows x 23 columns]"
      ]
     },
     "execution_count": 64,
     "metadata": {},
     "output_type": "execute_result"
    }
   ],
   "source": [
    "df[cat_cols] = df[cat_cols].apply(le.fit_transform)\n",
    "df.head()"
   ]
  },
  {
   "cell_type": "code",
   "execution_count": 65,
   "id": "f6495053",
   "metadata": {},
   "outputs": [
    {
     "name": "stdout",
     "output_type": "stream",
     "text": [
      "<class 'pandas.core.frame.DataFrame'>\n",
      "Int64Index: 990492 entries, 0 to 1048574\n",
      "Data columns (total 23 columns):\n",
      " #   Column                                 Non-Null Count   Dtype  \n",
      "---  ------                                 --------------   -----  \n",
      " 0   Area_Service                           990492 non-null  int32  \n",
      " 1   Hospital County                        990492 non-null  int32  \n",
      " 2   Age                                    990492 non-null  int64  \n",
      " 3   Gender                                 990492 non-null  int32  \n",
      " 4   Cultural_group                         990492 non-null  int32  \n",
      " 5   ethnicity                              990492 non-null  int32  \n",
      " 6   Days_spend_hsptl                       990492 non-null  int32  \n",
      " 7   Admission_type                         990492 non-null  int64  \n",
      " 8   Home or self care,                     990492 non-null  int32  \n",
      " 9   ccs_diagnosis_code                     990492 non-null  int64  \n",
      " 10  ccs_procedure_code                     990492 non-null  int64  \n",
      " 11  apr_drg_description                    990492 non-null  int32  \n",
      " 12  Code_illness                           990492 non-null  int64  \n",
      " 13  Mortality risk                         990492 non-null  float64\n",
      " 14  Surg_Description                       990492 non-null  int32  \n",
      " 15  Weight_baby                            990492 non-null  int64  \n",
      " 16  Abortion                               990492 non-null  int32  \n",
      " 17  Emergency dept_yes/No                  990492 non-null  int64  \n",
      " 18  Tot_charg                              990492 non-null  float64\n",
      " 19  Tot_cost                               990492 non-null  float64\n",
      " 20  ratio_of_total_costs_to_total_charges  990492 non-null  float64\n",
      " 21  Result                                 990492 non-null  int64  \n",
      " 22  Payment_Typology                       990492 non-null  int64  \n",
      "dtypes: float64(4), int32(10), int64(9)\n",
      "memory usage: 143.6 MB\n"
     ]
    }
   ],
   "source": [
    "df.info()"
   ]
  },
  {
   "cell_type": "code",
   "execution_count": 66,
   "id": "1553125c",
   "metadata": {},
   "outputs": [
    {
     "data": {
      "text/html": [
       "<div>\n",
       "<style scoped>\n",
       "    .dataframe tbody tr th:only-of-type {\n",
       "        vertical-align: middle;\n",
       "    }\n",
       "\n",
       "    .dataframe tbody tr th {\n",
       "        vertical-align: top;\n",
       "    }\n",
       "\n",
       "    .dataframe thead th {\n",
       "        text-align: right;\n",
       "    }\n",
       "</style>\n",
       "<table border=\"1\" class=\"dataframe\">\n",
       "  <thead>\n",
       "    <tr style=\"text-align: right;\">\n",
       "      <th></th>\n",
       "      <th>Area_Service</th>\n",
       "      <th>Hospital County</th>\n",
       "      <th>Age</th>\n",
       "      <th>Gender</th>\n",
       "      <th>Cultural_group</th>\n",
       "      <th>ethnicity</th>\n",
       "      <th>Days_spend_hsptl</th>\n",
       "      <th>Admission_type</th>\n",
       "      <th>Home or self care,</th>\n",
       "      <th>ccs_diagnosis_code</th>\n",
       "      <th>...</th>\n",
       "      <th>Mortality risk</th>\n",
       "      <th>Surg_Description</th>\n",
       "      <th>Weight_baby</th>\n",
       "      <th>Abortion</th>\n",
       "      <th>Emergency dept_yes/No</th>\n",
       "      <th>Tot_charg</th>\n",
       "      <th>Tot_cost</th>\n",
       "      <th>ratio_of_total_costs_to_total_charges</th>\n",
       "      <th>Result</th>\n",
       "      <th>Payment_Typology</th>\n",
       "    </tr>\n",
       "  </thead>\n",
       "  <tbody>\n",
       "    <tr>\n",
       "      <th>0</th>\n",
       "      <td>6</td>\n",
       "      <td>1</td>\n",
       "      <td>3</td>\n",
       "      <td>0</td>\n",
       "      <td>2</td>\n",
       "      <td>0</td>\n",
       "      <td>4</td>\n",
       "      <td>3</td>\n",
       "      <td>7</td>\n",
       "      <td>122</td>\n",
       "      <td>...</td>\n",
       "      <td>1.0</td>\n",
       "      <td>0</td>\n",
       "      <td>0</td>\n",
       "      <td>0</td>\n",
       "      <td>1</td>\n",
       "      <td>5511.95</td>\n",
       "      <td>5582.49</td>\n",
       "      <td>1.012798</td>\n",
       "      <td>1</td>\n",
       "      <td>1</td>\n",
       "    </tr>\n",
       "    <tr>\n",
       "      <th>1</th>\n",
       "      <td>6</td>\n",
       "      <td>1</td>\n",
       "      <td>5</td>\n",
       "      <td>0</td>\n",
       "      <td>2</td>\n",
       "      <td>0</td>\n",
       "      <td>4</td>\n",
       "      <td>2</td>\n",
       "      <td>17</td>\n",
       "      <td>197</td>\n",
       "      <td>...</td>\n",
       "      <td>2.0</td>\n",
       "      <td>0</td>\n",
       "      <td>0</td>\n",
       "      <td>0</td>\n",
       "      <td>1</td>\n",
       "      <td>4783.20</td>\n",
       "      <td>5162.82</td>\n",
       "      <td>1.079365</td>\n",
       "      <td>1</td>\n",
       "      <td>1</td>\n",
       "    </tr>\n",
       "    <tr>\n",
       "      <th>2</th>\n",
       "      <td>6</td>\n",
       "      <td>1</td>\n",
       "      <td>3</td>\n",
       "      <td>0</td>\n",
       "      <td>2</td>\n",
       "      <td>0</td>\n",
       "      <td>3</td>\n",
       "      <td>2</td>\n",
       "      <td>7</td>\n",
       "      <td>122</td>\n",
       "      <td>...</td>\n",
       "      <td>1.0</td>\n",
       "      <td>0</td>\n",
       "      <td>0</td>\n",
       "      <td>0</td>\n",
       "      <td>1</td>\n",
       "      <td>3829.15</td>\n",
       "      <td>4056.52</td>\n",
       "      <td>1.059379</td>\n",
       "      <td>1</td>\n",
       "      <td>1</td>\n",
       "    </tr>\n",
       "    <tr>\n",
       "      <th>3</th>\n",
       "      <td>6</td>\n",
       "      <td>1</td>\n",
       "      <td>1</td>\n",
       "      <td>0</td>\n",
       "      <td>2</td>\n",
       "      <td>0</td>\n",
       "      <td>1</td>\n",
       "      <td>2</td>\n",
       "      <td>7</td>\n",
       "      <td>122</td>\n",
       "      <td>...</td>\n",
       "      <td>1.0</td>\n",
       "      <td>0</td>\n",
       "      <td>0</td>\n",
       "      <td>0</td>\n",
       "      <td>1</td>\n",
       "      <td>1108.20</td>\n",
       "      <td>1644.75</td>\n",
       "      <td>1.484167</td>\n",
       "      <td>0</td>\n",
       "      <td>1</td>\n",
       "    </tr>\n",
       "    <tr>\n",
       "      <th>4</th>\n",
       "      <td>6</td>\n",
       "      <td>1</td>\n",
       "      <td>5</td>\n",
       "      <td>0</td>\n",
       "      <td>2</td>\n",
       "      <td>0</td>\n",
       "      <td>3</td>\n",
       "      <td>3</td>\n",
       "      <td>7</td>\n",
       "      <td>122</td>\n",
       "      <td>...</td>\n",
       "      <td>3.0</td>\n",
       "      <td>0</td>\n",
       "      <td>0</td>\n",
       "      <td>0</td>\n",
       "      <td>1</td>\n",
       "      <td>3418.18</td>\n",
       "      <td>3370.87</td>\n",
       "      <td>0.986161</td>\n",
       "      <td>1</td>\n",
       "      <td>1</td>\n",
       "    </tr>\n",
       "  </tbody>\n",
       "</table>\n",
       "<p>5 rows × 23 columns</p>\n",
       "</div>"
      ],
      "text/plain": [
       "   Area_Service  Hospital County  Age  Gender  Cultural_group  ethnicity  \\\n",
       "0             6                1    3       0               2          0   \n",
       "1             6                1    5       0               2          0   \n",
       "2             6                1    3       0               2          0   \n",
       "3             6                1    1       0               2          0   \n",
       "4             6                1    5       0               2          0   \n",
       "\n",
       "   Days_spend_hsptl  Admission_type  Home or self care,  ccs_diagnosis_code  \\\n",
       "0                 4               3                   7                 122   \n",
       "1                 4               2                  17                 197   \n",
       "2                 3               2                   7                 122   \n",
       "3                 1               2                   7                 122   \n",
       "4                 3               3                   7                 122   \n",
       "\n",
       "   ...  Mortality risk  Surg_Description  Weight_baby  Abortion  \\\n",
       "0  ...             1.0                 0            0         0   \n",
       "1  ...             2.0                 0            0         0   \n",
       "2  ...             1.0                 0            0         0   \n",
       "3  ...             1.0                 0            0         0   \n",
       "4  ...             3.0                 0            0         0   \n",
       "\n",
       "   Emergency dept_yes/No  Tot_charg  Tot_cost  \\\n",
       "0                      1    5511.95   5582.49   \n",
       "1                      1    4783.20   5162.82   \n",
       "2                      1    3829.15   4056.52   \n",
       "3                      1    1108.20   1644.75   \n",
       "4                      1    3418.18   3370.87   \n",
       "\n",
       "   ratio_of_total_costs_to_total_charges  Result  Payment_Typology  \n",
       "0                               1.012798       1                 1  \n",
       "1                               1.079365       1                 1  \n",
       "2                               1.059379       1                 1  \n",
       "3                               1.484167       0                 1  \n",
       "4                               0.986161       1                 1  \n",
       "\n",
       "[5 rows x 23 columns]"
      ]
     },
     "execution_count": 66,
     "metadata": {},
     "output_type": "execute_result"
    }
   ],
   "source": [
    "df.head()"
   ]
  },
  {
   "cell_type": "markdown",
   "id": "5ef709dc",
   "metadata": {},
   "source": [
    "## Dividing data in X  and  Y"
   ]
  },
  {
   "cell_type": "code",
   "execution_count": 67,
   "id": "489c26ad",
   "metadata": {},
   "outputs": [],
   "source": [
    "x= df.drop(columns=\"Result\")\n",
    "y = df.Result"
   ]
  },
  {
   "cell_type": "markdown",
   "id": "52725925",
   "metadata": {},
   "source": [
    "## FEATURE SELECTION"
   ]
  },
  {
   "cell_type": "code",
   "execution_count": 68,
   "id": "587a55bc",
   "metadata": {},
   "outputs": [],
   "source": [
    "from sklearn.feature_selection import VarianceThreshold"
   ]
  },
  {
   "cell_type": "code",
   "execution_count": 69,
   "id": "47a0475b",
   "metadata": {},
   "outputs": [
    {
     "data": {
      "text/plain": [
       "VarianceThreshold(threshold=0)"
      ]
     },
     "execution_count": 69,
     "metadata": {},
     "output_type": "execute_result"
    }
   ],
   "source": [
    "var_thres = VarianceThreshold(threshold=0)\n",
    "var_thres.fit(x)"
   ]
  },
  {
   "cell_type": "code",
   "execution_count": 70,
   "id": "9c86a51a",
   "metadata": {},
   "outputs": [
    {
     "data": {
      "text/plain": [
       "array([ True,  True,  True,  True,  True,  True,  True,  True,  True,\n",
       "        True,  True,  True,  True,  True,  True,  True, False,  True,\n",
       "        True,  True,  True,  True])"
      ]
     },
     "execution_count": 70,
     "metadata": {},
     "output_type": "execute_result"
    }
   ],
   "source": [
    "var_thres.get_support()"
   ]
  },
  {
   "cell_type": "code",
   "execution_count": 71,
   "id": "6e86ece7",
   "metadata": {},
   "outputs": [
    {
     "name": "stdout",
     "output_type": "stream",
     "text": [
      "1\n",
      "The feature with zero variance is: ['Abortion']\n"
     ]
    }
   ],
   "source": [
    "constant_column = [column for column in x.columns\n",
    "                 if column not in x.columns[var_thres.get_support()]]\n",
    "print(len(constant_column))\n",
    "print(f'The feature with zero variance is: {constant_column}')"
   ]
  },
  {
   "cell_type": "code",
   "execution_count": 72,
   "id": "0f42dfd2",
   "metadata": {},
   "outputs": [],
   "source": [
    "from sklearn.feature_selection import mutual_info_classif"
   ]
  },
  {
   "cell_type": "code",
   "execution_count": 73,
   "id": "6be794e2",
   "metadata": {},
   "outputs": [
    {
     "data": {
      "text/plain": [
       "array([0.02494445, 0.00955005, 0.03955623, 0.0290235 , 0.10421158,\n",
       "       0.00126542, 0.00933783, 0.04513539, 0.04805975, 0.00247834,\n",
       "       0.00249242, 0.00354158, 0.04089269, 0.04534331, 0.00843344,\n",
       "       0.        , 0.00024323, 0.04989455, 0.00033261, 0.        ,\n",
       "       0.00057774, 0.0509031 ])"
      ]
     },
     "execution_count": 73,
     "metadata": {},
     "output_type": "execute_result"
    }
   ],
   "source": [
    "mutual_info = mutual_info_classif(x,y)\n",
    "mutual_info"
   ]
  },
  {
   "cell_type": "code",
   "execution_count": 74,
   "id": "95c13b0c",
   "metadata": {},
   "outputs": [
    {
     "data": {
      "text/plain": [
       "Cultural_group                           0.104212\n",
       "Payment_Typology                         0.050903\n",
       "Emergency dept_yes/No                    0.049895\n",
       "Home or self care,                       0.048060\n",
       "Mortality risk                           0.045343\n",
       "Admission_type                           0.045135\n",
       "Code_illness                             0.040893\n",
       "Age                                      0.039556\n",
       "Gender                                   0.029024\n",
       "Area_Service                             0.024944\n",
       "Hospital County                          0.009550\n",
       "Days_spend_hsptl                         0.009338\n",
       "Surg_Description                         0.008433\n",
       "apr_drg_description                      0.003542\n",
       "ccs_procedure_code                       0.002492\n",
       "ccs_diagnosis_code                       0.002478\n",
       "ethnicity                                0.001265\n",
       "ratio_of_total_costs_to_total_charges    0.000578\n",
       "Tot_charg                                0.000333\n",
       "Abortion                                 0.000243\n",
       "Weight_baby                              0.000000\n",
       "Tot_cost                                 0.000000\n",
       "dtype: float64"
      ]
     },
     "execution_count": 74,
     "metadata": {},
     "output_type": "execute_result"
    }
   ],
   "source": [
    "mutual_info = pd.Series(mutual_info)\n",
    "mutual_info.index = x.columns\n",
    "mutual_info.sort_values(ascending=False)"
   ]
  },
  {
   "cell_type": "code",
   "execution_count": 75,
   "id": "d22dfae2",
   "metadata": {},
   "outputs": [
    {
     "data": {
      "text/plain": [
       "<matplotlib.axes._subplots.AxesSubplot at 0x1ce8f38b9d0>"
      ]
     },
     "execution_count": 75,
     "metadata": {},
     "output_type": "execute_result"
    },
    {
     "data": {
      "image/png": "[encoded data removed]",
      "text/plain": [
       "<Figure size 1500x750 with 1 Axes>"
      ]
     },
     "metadata": {
      "needs_background": "light"
     },
     "output_type": "display_data"
    }
   ],
   "source": [
    "mutual_info.plot.barh()"
   ]
  },
  {
   "cell_type": "code",
   "execution_count": 76,
   "id": "10c5d589",
   "metadata": {},
   "outputs": [
    {
     "data": {
      "text/plain": [
       "<matplotlib.axes._subplots.AxesSubplot at 0x1ce8f4517c0>"
      ]
     },
     "execution_count": 76,
     "metadata": {},
     "output_type": "execute_result"
    },
    {
     "data": {
      "image/png": "[encoded data removed]",
      "text/plain": [
       "<Figure size 1500x750 with 1 Axes>"
      ]
     },
     "metadata": {
      "needs_background": "light"
     },
     "output_type": "display_data"
    }
   ],
   "source": [
    "mutual_info.sort_values(ascending=False).plot.bar()"
   ]
  },
  {
   "cell_type": "markdown",
   "id": "8a22dd31",
   "metadata": {},
   "source": [
    "# Dropping unwanted columns"
   ]
  },
  {
   "cell_type": "code",
   "execution_count": 77,
   "id": "2d5da97b",
   "metadata": {},
   "outputs": [],
   "source": [
    "x_final = x.drop(columns = [\"Abortion\", \"Code_illness\",\"Hospital County\", \"Tot_cost\",\"Days_spend_hsptl\",\"apr_drg_description\",\"ccs_diagnosis_code\"])"
   ]
  },
  {
   "cell_type": "code",
   "execution_count": 78,
   "id": "01d3b03d",
   "metadata": {},
   "outputs": [],
   "source": [
    "y_final=y"
   ]
  },
  {
   "cell_type": "code",
   "execution_count": 79,
   "id": "df63cc89",
   "metadata": {},
   "outputs": [
    {
     "data": {
      "text/plain": [
       "((990492, 15), (990492,))"
      ]
     },
     "execution_count": 79,
     "metadata": {},
     "output_type": "execute_result"
    }
   ],
   "source": [
    "x_final.shape, y_final.shape"
   ]
  },
  {
   "cell_type": "markdown",
   "id": "f3e4c652",
   "metadata": {},
   "source": [
    "## CHECKING FOR IMBALANCE DATA"
   ]
  },
  {
   "cell_type": "code",
   "execution_count": 80,
   "id": "ede68ae9",
   "metadata": {},
   "outputs": [
    {
     "data": {
      "image/png": "[encoded data removed]",
      "text/plain": [
       "<Figure size 900x750 with 1 Axes>"
      ]
     },
     "metadata": {},
     "output_type": "display_data"
    }
   ],
   "source": [
    "plt.figure(figsize=(6,5))\n",
    "plt.pie(x= y_final.value_counts(),explode=[0.03,0], labels=['NF','F'],autopct='%1.0f%%')\n",
    "plt.show()"
   ]
  },
  {
   "cell_type": "code",
   "execution_count": 81,
   "id": "2cc91605",
   "metadata": {},
   "outputs": [],
   "source": [
    "class0 = np.where(y_final == 0)[0]\n",
    "class1 = np.where(y_final == 1)[0]"
   ]
  },
  {
   "cell_type": "code",
   "execution_count": 82,
   "id": "95c74825",
   "metadata": {},
   "outputs": [
    {
     "data": {
      "text/plain": [
       "248222"
      ]
     },
     "execution_count": 82,
     "metadata": {},
     "output_type": "execute_result"
    }
   ],
   "source": [
    "len(class0)"
   ]
  },
  {
   "cell_type": "code",
   "execution_count": 83,
   "id": "cc94e53b",
   "metadata": {
    "scrolled": true
   },
   "outputs": [
    {
     "data": {
      "text/plain": [
       "742270"
      ]
     },
     "execution_count": 83,
     "metadata": {},
     "output_type": "execute_result"
    }
   ],
   "source": [
    "len(class1)"
   ]
  },
  {
   "cell_type": "markdown",
   "id": "ee047bc7",
   "metadata": {},
   "source": [
    "## OVERSAMPLING (To Balance the data)"
   ]
  },
  {
   "cell_type": "code",
   "execution_count": 84,
   "id": "9373f0ef",
   "metadata": {},
   "outputs": [],
   "source": [
    "from imblearn.over_sampling import RandomOverSampler"
   ]
  },
  {
   "cell_type": "code",
   "execution_count": 85,
   "id": "f11552b8",
   "metadata": {},
   "outputs": [],
   "source": [
    "os=RandomOverSampler()"
   ]
  },
  {
   "cell_type": "code",
   "execution_count": 86,
   "id": "5a66c552",
   "metadata": {},
   "outputs": [],
   "source": [
    "x_res,y_res=os.fit_resample(x_final,y_final)"
   ]
  },
  {
   "cell_type": "code",
   "execution_count": 87,
   "id": "b59d3f89",
   "metadata": {},
   "outputs": [
    {
     "data": {
      "text/plain": [
       "((1484540, 15), (1484540,))"
      ]
     },
     "execution_count": 87,
     "metadata": {},
     "output_type": "execute_result"
    }
   ],
   "source": [
    "x_res.shape,y_res.shape"
   ]
  },
  {
   "cell_type": "code",
   "execution_count": 88,
   "id": "8e549d9a",
   "metadata": {},
   "outputs": [
    {
     "name": "stdout",
     "output_type": "stream",
     "text": [
      "original dataset shapeCounter({1: 742270, 0: 248222})\n",
      "resampled dataset shapeCounter({1: 742270, 0: 742270})\n"
     ]
    }
   ],
   "source": [
    "from collections import Counter\n",
    "print('original dataset shape{}'.format(Counter(y)))\n",
    "print('resampled dataset shape{}'.format(Counter(y_res)))"
   ]
  },
  {
   "cell_type": "code",
   "execution_count": 89,
   "id": "5eca1262",
   "metadata": {
    "scrolled": true
   },
   "outputs": [
    {
     "data": {
      "image/png": "[encoded data removed]",
      "text/plain": [
       "<Figure size 750x1050 with 1 Axes>"
      ]
     },
     "metadata": {},
     "output_type": "display_data"
    }
   ],
   "source": [
    "#after applying we can clearly see that dataset is balanced\n",
    "plt.figure(figsize=(5,7))\n",
    "plt.pie(x = y_res.value_counts(),explode=[0.03,0], labels=['F','NF'],autopct='%1.0f%%')\n",
    "plt.show()"
   ]
  },
  {
   "cell_type": "code",
   "execution_count": 90,
   "id": "042d8b05",
   "metadata": {},
   "outputs": [
    {
     "data": {
      "text/html": [
       "<div>\n",
       "<style scoped>\n",
       "    .dataframe tbody tr th:only-of-type {\n",
       "        vertical-align: middle;\n",
       "    }\n",
       "\n",
       "    .dataframe tbody tr th {\n",
       "        vertical-align: top;\n",
       "    }\n",
       "\n",
       "    .dataframe thead th {\n",
       "        text-align: right;\n",
       "    }\n",
       "</style>\n",
       "<table border=\"1\" class=\"dataframe\">\n",
       "  <thead>\n",
       "    <tr style=\"text-align: right;\">\n",
       "      <th></th>\n",
       "      <th>Area_Service</th>\n",
       "      <th>Age</th>\n",
       "      <th>Gender</th>\n",
       "      <th>Cultural_group</th>\n",
       "      <th>ethnicity</th>\n",
       "      <th>Admission_type</th>\n",
       "      <th>Home or self care,</th>\n",
       "      <th>ccs_procedure_code</th>\n",
       "      <th>Mortality risk</th>\n",
       "      <th>Surg_Description</th>\n",
       "      <th>Weight_baby</th>\n",
       "      <th>Emergency dept_yes/No</th>\n",
       "      <th>Tot_charg</th>\n",
       "      <th>ratio_of_total_costs_to_total_charges</th>\n",
       "      <th>Payment_Typology</th>\n",
       "      <th>Result</th>\n",
       "    </tr>\n",
       "  </thead>\n",
       "  <tbody>\n",
       "    <tr>\n",
       "      <th>0</th>\n",
       "      <td>6</td>\n",
       "      <td>3</td>\n",
       "      <td>0</td>\n",
       "      <td>2</td>\n",
       "      <td>0</td>\n",
       "      <td>3</td>\n",
       "      <td>7</td>\n",
       "      <td>0</td>\n",
       "      <td>1.0</td>\n",
       "      <td>0</td>\n",
       "      <td>0</td>\n",
       "      <td>1</td>\n",
       "      <td>5511.95</td>\n",
       "      <td>1.012798</td>\n",
       "      <td>1</td>\n",
       "      <td>1</td>\n",
       "    </tr>\n",
       "    <tr>\n",
       "      <th>1</th>\n",
       "      <td>6</td>\n",
       "      <td>5</td>\n",
       "      <td>0</td>\n",
       "      <td>2</td>\n",
       "      <td>0</td>\n",
       "      <td>2</td>\n",
       "      <td>17</td>\n",
       "      <td>0</td>\n",
       "      <td>2.0</td>\n",
       "      <td>0</td>\n",
       "      <td>0</td>\n",
       "      <td>1</td>\n",
       "      <td>4783.20</td>\n",
       "      <td>1.079365</td>\n",
       "      <td>1</td>\n",
       "      <td>1</td>\n",
       "    </tr>\n",
       "    <tr>\n",
       "      <th>2</th>\n",
       "      <td>6</td>\n",
       "      <td>3</td>\n",
       "      <td>0</td>\n",
       "      <td>2</td>\n",
       "      <td>0</td>\n",
       "      <td>2</td>\n",
       "      <td>7</td>\n",
       "      <td>0</td>\n",
       "      <td>1.0</td>\n",
       "      <td>0</td>\n",
       "      <td>0</td>\n",
       "      <td>1</td>\n",
       "      <td>3829.15</td>\n",
       "      <td>1.059379</td>\n",
       "      <td>1</td>\n",
       "      <td>1</td>\n",
       "    </tr>\n",
       "    <tr>\n",
       "      <th>3</th>\n",
       "      <td>6</td>\n",
       "      <td>1</td>\n",
       "      <td>0</td>\n",
       "      <td>2</td>\n",
       "      <td>0</td>\n",
       "      <td>2</td>\n",
       "      <td>7</td>\n",
       "      <td>0</td>\n",
       "      <td>1.0</td>\n",
       "      <td>0</td>\n",
       "      <td>0</td>\n",
       "      <td>1</td>\n",
       "      <td>1108.20</td>\n",
       "      <td>1.484167</td>\n",
       "      <td>1</td>\n",
       "      <td>0</td>\n",
       "    </tr>\n",
       "    <tr>\n",
       "      <th>4</th>\n",
       "      <td>6</td>\n",
       "      <td>5</td>\n",
       "      <td>0</td>\n",
       "      <td>2</td>\n",
       "      <td>0</td>\n",
       "      <td>3</td>\n",
       "      <td>7</td>\n",
       "      <td>0</td>\n",
       "      <td>3.0</td>\n",
       "      <td>0</td>\n",
       "      <td>0</td>\n",
       "      <td>1</td>\n",
       "      <td>3418.18</td>\n",
       "      <td>0.986161</td>\n",
       "      <td>1</td>\n",
       "      <td>1</td>\n",
       "    </tr>\n",
       "    <tr>\n",
       "      <th>...</th>\n",
       "      <td>...</td>\n",
       "      <td>...</td>\n",
       "      <td>...</td>\n",
       "      <td>...</td>\n",
       "      <td>...</td>\n",
       "      <td>...</td>\n",
       "      <td>...</td>\n",
       "      <td>...</td>\n",
       "      <td>...</td>\n",
       "      <td>...</td>\n",
       "      <td>...</td>\n",
       "      <td>...</td>\n",
       "      <td>...</td>\n",
       "      <td>...</td>\n",
       "      <td>...</td>\n",
       "      <td>...</td>\n",
       "    </tr>\n",
       "    <tr>\n",
       "      <th>1484535</th>\n",
       "      <td>3</td>\n",
       "      <td>3</td>\n",
       "      <td>0</td>\n",
       "      <td>2</td>\n",
       "      <td>0</td>\n",
       "      <td>3</td>\n",
       "      <td>7</td>\n",
       "      <td>134</td>\n",
       "      <td>1.0</td>\n",
       "      <td>1</td>\n",
       "      <td>0</td>\n",
       "      <td>0</td>\n",
       "      <td>14910.00</td>\n",
       "      <td>0.833523</td>\n",
       "      <td>3</td>\n",
       "      <td>0</td>\n",
       "    </tr>\n",
       "    <tr>\n",
       "      <th>1484536</th>\n",
       "      <td>0</td>\n",
       "      <td>4</td>\n",
       "      <td>1</td>\n",
       "      <td>2</td>\n",
       "      <td>0</td>\n",
       "      <td>3</td>\n",
       "      <td>18</td>\n",
       "      <td>153</td>\n",
       "      <td>1.0</td>\n",
       "      <td>1</td>\n",
       "      <td>0</td>\n",
       "      <td>0</td>\n",
       "      <td>32968.65</td>\n",
       "      <td>0.440898</td>\n",
       "      <td>1</td>\n",
       "      <td>0</td>\n",
       "    </tr>\n",
       "    <tr>\n",
       "      <th>1484537</th>\n",
       "      <td>6</td>\n",
       "      <td>4</td>\n",
       "      <td>0</td>\n",
       "      <td>2</td>\n",
       "      <td>0</td>\n",
       "      <td>1</td>\n",
       "      <td>11</td>\n",
       "      <td>84</td>\n",
       "      <td>4.0</td>\n",
       "      <td>1</td>\n",
       "      <td>0</td>\n",
       "      <td>1</td>\n",
       "      <td>121861.37</td>\n",
       "      <td>0.506783</td>\n",
       "      <td>3</td>\n",
       "      <td>0</td>\n",
       "    </tr>\n",
       "    <tr>\n",
       "      <th>1484538</th>\n",
       "      <td>3</td>\n",
       "      <td>3</td>\n",
       "      <td>0</td>\n",
       "      <td>2</td>\n",
       "      <td>0</td>\n",
       "      <td>3</td>\n",
       "      <td>7</td>\n",
       "      <td>140</td>\n",
       "      <td>1.0</td>\n",
       "      <td>0</td>\n",
       "      <td>0</td>\n",
       "      <td>0</td>\n",
       "      <td>5916.00</td>\n",
       "      <td>0.855658</td>\n",
       "      <td>3</td>\n",
       "      <td>0</td>\n",
       "    </tr>\n",
       "    <tr>\n",
       "      <th>1484539</th>\n",
       "      <td>0</td>\n",
       "      <td>4</td>\n",
       "      <td>0</td>\n",
       "      <td>2</td>\n",
       "      <td>0</td>\n",
       "      <td>2</td>\n",
       "      <td>8</td>\n",
       "      <td>55</td>\n",
       "      <td>4.0</td>\n",
       "      <td>1</td>\n",
       "      <td>0</td>\n",
       "      <td>0</td>\n",
       "      <td>149137.34</td>\n",
       "      <td>0.333373</td>\n",
       "      <td>3</td>\n",
       "      <td>0</td>\n",
       "    </tr>\n",
       "  </tbody>\n",
       "</table>\n",
       "<p>1484540 rows × 16 columns</p>\n",
       "</div>"
      ],
      "text/plain": [
       "         Area_Service  Age  Gender  Cultural_group  ethnicity  Admission_type  \\\n",
       "0                   6    3       0               2          0               3   \n",
       "1                   6    5       0               2          0               2   \n",
       "2                   6    3       0               2          0               2   \n",
       "3                   6    1       0               2          0               2   \n",
       "4                   6    5       0               2          0               3   \n",
       "...               ...  ...     ...             ...        ...             ...   \n",
       "1484535             3    3       0               2          0               3   \n",
       "1484536             0    4       1               2          0               3   \n",
       "1484537             6    4       0               2          0               1   \n",
       "1484538             3    3       0               2          0               3   \n",
       "1484539             0    4       0               2          0               2   \n",
       "\n",
       "         Home or self care,  ccs_procedure_code  Mortality risk  \\\n",
       "0                         7                   0             1.0   \n",
       "1                        17                   0             2.0   \n",
       "2                         7                   0             1.0   \n",
       "3                         7                   0             1.0   \n",
       "4                         7                   0             3.0   \n",
       "...                     ...                 ...             ...   \n",
       "1484535                   7                 134             1.0   \n",
       "1484536                  18                 153             1.0   \n",
       "1484537                  11                  84             4.0   \n",
       "1484538                   7                 140             1.0   \n",
       "1484539                   8                  55             4.0   \n",
       "\n",
       "         Surg_Description  Weight_baby  Emergency dept_yes/No  Tot_charg  \\\n",
       "0                       0            0                      1    5511.95   \n",
       "1                       0            0                      1    4783.20   \n",
       "2                       0            0                      1    3829.15   \n",
       "3                       0            0                      1    1108.20   \n",
       "4                       0            0                      1    3418.18   \n",
       "...                   ...          ...                    ...        ...   \n",
       "1484535                 1            0                      0   14910.00   \n",
       "1484536                 1            0                      0   32968.65   \n",
       "1484537                 1            0                      1  121861.37   \n",
       "1484538                 0            0                      0    5916.00   \n",
       "1484539                 1            0                      0  149137.34   \n",
       "\n",
       "         ratio_of_total_costs_to_total_charges  Payment_Typology  Result  \n",
       "0                                     1.012798                 1       1  \n",
       "1                                     1.079365                 1       1  \n",
       "2                                     1.059379                 1       1  \n",
       "3                                     1.484167                 1       0  \n",
       "4                                     0.986161                 1       1  \n",
       "...                                        ...               ...     ...  \n",
       "1484535                               0.833523                 3       0  \n",
       "1484536                               0.440898                 1       0  \n",
       "1484537                               0.506783                 3       0  \n",
       "1484538                               0.855658                 3       0  \n",
       "1484539                               0.333373                 3       0  \n",
       "\n",
       "[1484540 rows x 16 columns]"
      ]
     },
     "execution_count": 90,
     "metadata": {},
     "output_type": "execute_result"
    }
   ],
   "source": [
    "fraud_new_data =pd.concat([x_res, y_res], axis=1)\n",
    "fraud_new_data"
   ]
  },
  {
   "cell_type": "code",
   "execution_count": 91,
   "id": "ab2261bc",
   "metadata": {},
   "outputs": [],
   "source": [
    "fraud_new_data.to_csv(r'G:\\Fraud_data_final_new.csv')"
   ]
  }
 ],
 "metadata": {
  "kernelspec": {
   "display_name": "Python 3 (ipykernel)",
   "language": "python",
   "name": "python3"
  },
  "language_info": {
   "codemirror_mode": {
    "name": "ipython",
    "version": 3
   },
   "file_extension": ".py",
   "mimetype": "text/x-python",
   "name": "python",
   "nbconvert_exporter": "python",
   "pygments_lexer": "ipython3",
   "version": "3.9.7"
  }
 },
 "nbformat": 4,
 "nbformat_minor": 5
}
